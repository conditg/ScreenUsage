{
 "cells": [
  {
   "cell_type": "code",
   "execution_count": 85,
   "metadata": {},
   "outputs": [],
   "source": [
    "import numpy as np\n",
    "import pandas as pd\n",
    "import matplotlib.pyplot as plt\n",
    "from sklearn import linear_model\n",
    "import statsmodels.formula.api as smf\n",
    "from sklearn.model_selection import cross_val_score, cross_val_predict\n",
    "import seaborn as sns\n",
    "from sklearn import neighbors\n",
    "from sklearn import ensemble\n",
    "from sklearn.preprocessing import StandardScaler\n",
    "from sklearn.decomposition import PCA \n",
    "from matplotlib import gridspec"
   ]
  },
  {
   "cell_type": "code",
   "execution_count": 2,
   "metadata": {},
   "outputs": [
    {
     "name": "stdout",
     "output_type": "stream",
     "text": [
      "(575, 15)\n"
     ]
    },
    {
     "data": {
      "text/html": [
       "<div>\n",
       "<style scoped>\n",
       "    .dataframe tbody tr th:only-of-type {\n",
       "        vertical-align: middle;\n",
       "    }\n",
       "\n",
       "    .dataframe tbody tr th {\n",
       "        vertical-align: top;\n",
       "    }\n",
       "\n",
       "    .dataframe thead th {\n",
       "        text-align: right;\n",
       "    }\n",
       "</style>\n",
       "<table border=\"1\" class=\"dataframe\">\n",
       "  <thead>\n",
       "    <tr style=\"text-align: right;\">\n",
       "      <th></th>\n",
       "      <th>ID</th>\n",
       "      <th>gender</th>\n",
       "      <th>age</th>\n",
       "      <th>disability</th>\n",
       "      <th>mothersEdu</th>\n",
       "      <th>allSocialSkills</th>\n",
       "      <th>express</th>\n",
       "      <th>comply</th>\n",
       "      <th>disrupt</th>\n",
       "      <th>meetStReqs</th>\n",
       "      <th>meetPhysReqs</th>\n",
       "      <th>screenTime</th>\n",
       "      <th>tvTime</th>\n",
       "      <th>cpuTime</th>\n",
       "      <th>outdoorTime</th>\n",
       "    </tr>\n",
       "  </thead>\n",
       "  <tbody>\n",
       "    <tr>\n",
       "      <th>0</th>\n",
       "      <td>30208</td>\n",
       "      <td>Female</td>\n",
       "      <td>3.030801</td>\n",
       "      <td>0</td>\n",
       "      <td>3</td>\n",
       "      <td>78</td>\n",
       "      <td>38</td>\n",
       "      <td>24</td>\n",
       "      <td>12</td>\n",
       "      <td>0</td>\n",
       "      <td>0</td>\n",
       "      <td>3.000000</td>\n",
       "      <td>2.000000</td>\n",
       "      <td>1.0</td>\n",
       "      <td>1.500000</td>\n",
       "    </tr>\n",
       "    <tr>\n",
       "      <th>1</th>\n",
       "      <td>30400</td>\n",
       "      <td>Female</td>\n",
       "      <td>3.865845</td>\n",
       "      <td>0</td>\n",
       "      <td>3</td>\n",
       "      <td>82</td>\n",
       "      <td>39</td>\n",
       "      <td>27</td>\n",
       "      <td>10</td>\n",
       "      <td>1</td>\n",
       "      <td>1</td>\n",
       "      <td>0.000000</td>\n",
       "      <td>0.000000</td>\n",
       "      <td>0.0</td>\n",
       "      <td>4.000000</td>\n",
       "    </tr>\n",
       "    <tr>\n",
       "      <th>2</th>\n",
       "      <td>30863</td>\n",
       "      <td>Female</td>\n",
       "      <td>2.130048</td>\n",
       "      <td>0</td>\n",
       "      <td>3</td>\n",
       "      <td>68</td>\n",
       "      <td>35</td>\n",
       "      <td>18</td>\n",
       "      <td>11</td>\n",
       "      <td>1</td>\n",
       "      <td>0</td>\n",
       "      <td>0.857143</td>\n",
       "      <td>0.857143</td>\n",
       "      <td>0.0</td>\n",
       "      <td>1.714286</td>\n",
       "    </tr>\n",
       "    <tr>\n",
       "      <th>3</th>\n",
       "      <td>30530</td>\n",
       "      <td>Male</td>\n",
       "      <td>2.105407</td>\n",
       "      <td>0</td>\n",
       "      <td>3</td>\n",
       "      <td>63</td>\n",
       "      <td>29</td>\n",
       "      <td>20</td>\n",
       "      <td>12</td>\n",
       "      <td>1</td>\n",
       "      <td>0</td>\n",
       "      <td>0.500000</td>\n",
       "      <td>0.500000</td>\n",
       "      <td>0.0</td>\n",
       "      <td>1.500000</td>\n",
       "    </tr>\n",
       "    <tr>\n",
       "      <th>4</th>\n",
       "      <td>300057</td>\n",
       "      <td>Female</td>\n",
       "      <td>2.403833</td>\n",
       "      <td>0</td>\n",
       "      <td>3</td>\n",
       "      <td>78</td>\n",
       "      <td>38</td>\n",
       "      <td>25</td>\n",
       "      <td>11</td>\n",
       "      <td>1</td>\n",
       "      <td>0</td>\n",
       "      <td>0.357143</td>\n",
       "      <td>0.357143</td>\n",
       "      <td>0.0</td>\n",
       "      <td>1.500000</td>\n",
       "    </tr>\n",
       "  </tbody>\n",
       "</table>\n",
       "</div>"
      ],
      "text/plain": [
       "       ID  gender       age  disability  mothersEdu  allSocialSkills  express  \\\n",
       "0   30208  Female  3.030801           0           3               78       38   \n",
       "1   30400  Female  3.865845           0           3               82       39   \n",
       "2   30863  Female  2.130048           0           3               68       35   \n",
       "3   30530    Male  2.105407           0           3               63       29   \n",
       "4  300057  Female  2.403833           0           3               78       38   \n",
       "\n",
       "   comply  disrupt  meetStReqs  meetPhysReqs  screenTime    tvTime  cpuTime  \\\n",
       "0      24       12           0             0    3.000000  2.000000      1.0   \n",
       "1      27       10           1             1    0.000000  0.000000      0.0   \n",
       "2      18       11           1             0    0.857143  0.857143      0.0   \n",
       "3      20       12           1             0    0.500000  0.500000      0.0   \n",
       "4      25       11           1             0    0.357143  0.357143      0.0   \n",
       "\n",
       "   outdoorTime  \n",
       "0     1.500000  \n",
       "1     4.000000  \n",
       "2     1.714286  \n",
       "3     1.500000  \n",
       "4     1.500000  "
      ]
     },
     "execution_count": 2,
     "metadata": {},
     "output_type": "execute_result"
    }
   ],
   "source": [
    "''' This study investigates potential associations of screen time and outdoor play (as a \n",
    "proxy for physical activity) with social skills. Cross sectional data were available for \n",
    "575 mothers with a child (54% boys) aged 2–5 years. Mothers reported their child’s screen \n",
    "time, outdoor play time and social skills'''\n",
    "#https://journals.plos.org/plosone/article?id=10.1371/journal.pone.0193700\n",
    "#https://dro.deakin.edu.au/view/DU:30106962\n",
    "df = pd.read_csv('stdataset.csv')\n",
    "df.columns = [\"ID\", 'gender', 'age', 'disability', 'mothersEdu', 'allSocialSkills', 'express', 'comply', 'disrupt',\n",
    "              'meetStReqs', 'meetPhysReqs', 'screenTime', 'tvTime', 'cpuTime', 'outdoorTime']\n",
    "df.disability = np.where(df.disability == 'Yes', 1, 0)\n",
    "print(df.shape)\n",
    "df.head()"
   ]
  },
  {
   "cell_type": "markdown",
   "metadata": {},
   "source": [
    "# Notes on the columns, where necessary:\n",
    "- **disability**: self-reported\n",
    "- **mothersEdu**: 1 means 10 years or less, 2 means 12 years or a equivalent of a trade school, and 3 means 14+ years or high education\n",
    "- **allSocialSkills**: summary of the following 3 categories, all self-reported by the mother\n",
    "- **express**: Mother rates their child's ability to express themself using thirteen subcategories on 3 point Likert scale. All her choices are summed\n",
    "- **comply**: Mother rates their child's tendency to comply using ten subcategories on 3 point Likert scale. All her choices are summed\n",
    "- **disrupt**: Mother rates their child's tendency to disrupt on seven subcategories on 3 point Likert scale. All her choices are summed\n",
    "- **meetStReqs**: Whether or not this family meets the country's (AUS) screen time recommendations. this is a dichotomized version of the 3 screen time variables below\n",
    "- **meetPhysReqs**: Whether or not this family meets the country's (AUS) physical activity recommendations. this is a dichotomized version of the outdoor play variable below\n",
    "- **screenTime, tvTime, cpuTime, outdoorTime**: Average hours per day, reported by mother\n"
   ]
  },
  {
   "cell_type": "code",
   "execution_count": 3,
   "metadata": {},
   "outputs": [
    {
     "data": {
      "image/png": "[encoded data removed]",
      "text/plain": [
       "<Figure size 1080x1080 with 13 Axes>"
      ]
     },
     "metadata": {},
     "output_type": "display_data"
    }
   ],
   "source": [
    "plt.figure(figsize=[15,15])\n",
    "for j,x in enumerate(df.columns[2:]):\n",
    "    plt.subplot(4,4,j+1)\n",
    "    plt.hist(df[x])\n",
    "    plt.axvline(df[x].mean(), color='k', linestyle='solid', linewidth=1)\n",
    "    plt.axvline(df[x].mean() - df[x].std(), color='k', linestyle='dashed', linewidth=1)\n",
    "    plt.axvline(df[x].mean() + df[x].std(), color='k', linestyle='dashed', linewidth=1)\n",
    "    plt.yticks([])\n",
    "    plt.title(x)\n",
    "plt.show()"
   ]
  },
  {
   "cell_type": "code",
   "execution_count": 143,
   "metadata": {},
   "outputs": [],
   "source": [
    "#predict allss with the 3 pieces?\n",
    "#pairplot?\n",
    "#Show the boxplots, sigma with each feature"
   ]
  },
  {
   "cell_type": "code",
   "execution_count": 147,
   "metadata": {},
   "outputs": [
    {
     "name": "stderr",
     "output_type": "stream",
     "text": [
      "c:\\users\\greg\\appdata\\local\\programs\\python\\python37-32\\lib\\site-packages\\scipy\\stats\\stats.py:1713: FutureWarning: Using a non-tuple sequence for multidimensional indexing is deprecated; use `arr[tuple(seq)]` instead of `arr[seq]`. In the future this will be interpreted as an array index, `arr[np.array(seq)]`, which will result either in an error or a different result.\n",
      "  return np.add.reduce(sorted[indexer] * weights, axis=axis) / sumval\n"
     ]
    },
    {
     "data": {
      "image/png": "[encoded data removed]",
      "text/plain": [
       "<Figure size 720x720 with 20 Axes>"
      ]
     },
     "metadata": {},
     "output_type": "display_data"
    }
   ],
   "source": [
    "\n",
    "g = sns.PairGrid(df[['express', 'comply', 'disrupt', 'allSocialSkills']])\n",
    "g = g.map_upper(plt.scatter)\n",
    "g = g.map_lower(sns.kdeplot, cmap=\"Blues_d\")\n",
    "g = g.map_diag(sns.kdeplot, lw=3, legend=False)\n",
    "plt.show()"
   ]
  },
  {
   "cell_type": "code",
   "execution_count": 148,
   "metadata": {},
   "outputs": [
    {
     "name": "stdout",
     "output_type": "stream",
     "text": [
      "Fold Scores:  [-0.04434238 -0.0884137  -0.17036225  0.05287672  0.0059761   0.03814937\n",
      "  0.03455728  0.02748817  0.02913131  0.0299505 ]\n",
      "\n",
      "Average Score:  -0.008498887391842225\n"
     ]
    }
   ],
   "source": [
    "regr = linear_model.LinearRegression()\n",
    "x = df[['disability', 'mothersEdu','tvTime', 'cpuTime', 'outdoorTime']]\n",
    "y = df.allSocialSkills\n",
    "regr.fit(x,y)\n",
    "scores = cross_val_score(regr,x,y,cv=10)\n",
    "print(\"Fold Scores: \",scores)\n",
    "print(\"\\nAverage Score: \",np.mean(scores))"
   ]
  },
  {
   "cell_type": "code",
   "execution_count": 149,
   "metadata": {
    "scrolled": false
   },
   "outputs": [
    {
     "data": {
      "text/html": [
       "<table class=\"simpletable\">\n",
       "<caption>OLS Regression Results</caption>\n",
       "<tr>\n",
       "  <th>Dep. Variable:</th>     <td>allSocialSkills</td> <th>  R-squared:         </th> <td>   0.049</td>\n",
       "</tr>\n",
       "<tr>\n",
       "  <th>Model:</th>                   <td>OLS</td>       <th>  Adj. R-squared:    </th> <td>   0.040</td>\n",
       "</tr>\n",
       "<tr>\n",
       "  <th>Method:</th>             <td>Least Squares</td>  <th>  F-statistic:       </th> <td>   5.842</td>\n",
       "</tr>\n",
       "<tr>\n",
       "  <th>Date:</th>             <td>Mon, 31 Dec 2018</td> <th>  Prob (F-statistic):</th> <td>2.83e-05</td>\n",
       "</tr>\n",
       "<tr>\n",
       "  <th>Time:</th>                 <td>22:08:48</td>     <th>  Log-Likelihood:    </th> <td> -1870.0</td>\n",
       "</tr>\n",
       "<tr>\n",
       "  <th>No. Observations:</th>      <td>   575</td>      <th>  AIC:               </th> <td>   3752.</td>\n",
       "</tr>\n",
       "<tr>\n",
       "  <th>Df Residuals:</th>          <td>   569</td>      <th>  BIC:               </th> <td>   3778.</td>\n",
       "</tr>\n",
       "<tr>\n",
       "  <th>Df Model:</th>              <td>     5</td>      <th>                     </th>     <td> </td>   \n",
       "</tr>\n",
       "<tr>\n",
       "  <th>Covariance Type:</th>      <td>nonrobust</td>    <th>                     </th>     <td> </td>   \n",
       "</tr>\n",
       "</table>\n",
       "<table class=\"simpletable\">\n",
       "<tr>\n",
       "       <td></td>          <th>coef</th>     <th>std err</th>      <th>t</th>      <th>P>|t|</th>  <th>[0.025</th>    <th>0.975]</th>  \n",
       "</tr>\n",
       "<tr>\n",
       "  <th>Intercept</th>   <td>   76.5702</td> <td>    1.600</td> <td>   47.855</td> <td> 0.000</td> <td>   73.427</td> <td>   79.713</td>\n",
       "</tr>\n",
       "<tr>\n",
       "  <th>disability</th>  <td>   -3.7430</td> <td>    0.933</td> <td>   -4.013</td> <td> 0.000</td> <td>   -5.575</td> <td>   -1.911</td>\n",
       "</tr>\n",
       "<tr>\n",
       "  <th>mothersEdu</th>  <td>   -0.1163</td> <td>    0.522</td> <td>   -0.223</td> <td> 0.824</td> <td>   -1.141</td> <td>    0.909</td>\n",
       "</tr>\n",
       "<tr>\n",
       "  <th>tvTime</th>      <td>   -0.4372</td> <td>    0.214</td> <td>   -2.040</td> <td> 0.042</td> <td>   -0.858</td> <td>   -0.016</td>\n",
       "</tr>\n",
       "<tr>\n",
       "  <th>cpuTime</th>     <td>   -0.3473</td> <td>    0.418</td> <td>   -0.832</td> <td> 0.406</td> <td>   -1.168</td> <td>    0.473</td>\n",
       "</tr>\n",
       "<tr>\n",
       "  <th>outdoorTime</th> <td>    0.4500</td> <td>    0.142</td> <td>    3.160</td> <td> 0.002</td> <td>    0.170</td> <td>    0.730</td>\n",
       "</tr>\n",
       "</table>\n",
       "<table class=\"simpletable\">\n",
       "<tr>\n",
       "  <th>Omnibus:</th>       <td>46.008</td> <th>  Durbin-Watson:     </th> <td>   2.001</td>\n",
       "</tr>\n",
       "<tr>\n",
       "  <th>Prob(Omnibus):</th> <td> 0.000</td> <th>  Jarque-Bera (JB):  </th> <td>  54.891</td>\n",
       "</tr>\n",
       "<tr>\n",
       "  <th>Skew:</th>          <td>-0.732</td> <th>  Prob(JB):          </th> <td>1.20e-12</td>\n",
       "</tr>\n",
       "<tr>\n",
       "  <th>Kurtosis:</th>      <td> 3.383</td> <th>  Cond. No.          </th> <td>    30.7</td>\n",
       "</tr>\n",
       "</table><br/><br/>Warnings:<br/>[1] Standard Errors assume that the covariance matrix of the errors is correctly specified."
      ],
      "text/plain": [
       "<class 'statsmodels.iolib.summary.Summary'>\n",
       "\"\"\"\n",
       "                            OLS Regression Results                            \n",
       "==============================================================================\n",
       "Dep. Variable:        allSocialSkills   R-squared:                       0.049\n",
       "Model:                            OLS   Adj. R-squared:                  0.040\n",
       "Method:                 Least Squares   F-statistic:                     5.842\n",
       "Date:                Mon, 31 Dec 2018   Prob (F-statistic):           2.83e-05\n",
       "Time:                        22:08:48   Log-Likelihood:                -1870.0\n",
       "No. Observations:                 575   AIC:                             3752.\n",
       "Df Residuals:                     569   BIC:                             3778.\n",
       "Df Model:                           5                                         \n",
       "Covariance Type:            nonrobust                                         \n",
       "===============================================================================\n",
       "                  coef    std err          t      P>|t|      [0.025      0.975]\n",
       "-------------------------------------------------------------------------------\n",
       "Intercept      76.5702      1.600     47.855      0.000      73.427      79.713\n",
       "disability     -3.7430      0.933     -4.013      0.000      -5.575      -1.911\n",
       "mothersEdu     -0.1163      0.522     -0.223      0.824      -1.141       0.909\n",
       "tvTime         -0.4372      0.214     -2.040      0.042      -0.858      -0.016\n",
       "cpuTime        -0.3473      0.418     -0.832      0.406      -1.168       0.473\n",
       "outdoorTime     0.4500      0.142      3.160      0.002       0.170       0.730\n",
       "==============================================================================\n",
       "Omnibus:                       46.008   Durbin-Watson:                   2.001\n",
       "Prob(Omnibus):                  0.000   Jarque-Bera (JB):               54.891\n",
       "Skew:                          -0.732   Prob(JB):                     1.20e-12\n",
       "Kurtosis:                       3.383   Cond. No.                         30.7\n",
       "==============================================================================\n",
       "\n",
       "Warnings:\n",
       "[1] Standard Errors assume that the covariance matrix of the errors is correctly specified.\n",
       "\"\"\""
      ]
     },
     "execution_count": 149,
     "metadata": {},
     "output_type": "execute_result"
    }
   ],
   "source": [
    "#statsmodels\n",
    "linear_formula = 'allSocialSkills ~ disability+mothersEdu+tvTime+cpuTime+outdoorTime'\n",
    "\n",
    "# Fit the model to our data using the formula.\n",
    "lm = smf.ols(formula=linear_formula, data=df).fit()\n",
    "lm.summary()"
   ]
  },
  {
   "cell_type": "code",
   "execution_count": 150,
   "metadata": {
    "scrolled": true
   },
   "outputs": [
    {
     "data": {
      "image/png": "[encoded data removed]",
      "text/plain": [
       "<Figure size 1080x360 with 4 Axes>"
      ]
     },
     "metadata": {},
     "output_type": "display_data"
    }
   ],
   "source": [
    "#Let's check how our output looks:\n",
    "pred = cross_val_predict(regr,x,y,cv=5)\n",
    "residual = y - pred\n",
    "\n",
    "plt.figure(figsize=[15,5])\n",
    "plt.subplot(131)\n",
    "plt.title('Multicollinearity')\n",
    "sns.heatmap(x.corr(), vmin = -1,square=True, cmap=\"PiYG\")\n",
    "plt.subplot(132)\n",
    "plt.hist(residual, bins=25)\n",
    "plt.title('Residual Histogram - should look normal')\n",
    "plt.ylabel('Count')\n",
    "plt.subplot(133)\n",
    "plt.scatter(pred, residual, alpha=.2)\n",
    "plt.xlabel('Predicted')\n",
    "plt.ylabel('Residual')\n",
    "plt.axhline(y=0)\n",
    "plt.title('Scedasticity - should be consistent')\n",
    "plt.show()"
   ]
  },
  {
   "cell_type": "code",
   "execution_count": 12,
   "metadata": {},
   "outputs": [
    {
     "data": {
      "image/png": "[encoded data removed]",
      "text/plain": [
       "<Figure size 1080x360 with 4 Axes>"
      ]
     },
     "metadata": {},
     "output_type": "display_data"
    }
   ],
   "source": [
    "def knnChart(x,y):\n",
    "    x = pd.DataFrame(x)\n",
    "    neighborCounts = range(2,50,2)\n",
    "    plt.figure(figsize=[15,5])\n",
    "    ax1 = plt.subplot(121)\n",
    "    stds = []\n",
    "    means = []\n",
    "    for i in neighborCounts:\n",
    "        knn = neighbors.KNeighborsRegressor(n_neighbors=i, weights='uniform')\n",
    "        knn.fit(x,y)\n",
    "        scores = cross_val_score(knn,x,y, cv=5)\n",
    "        means.append(np.mean(scores))\n",
    "        stds.append(np.std(scores))\n",
    "    plt.title('KNN neighbor counts, uniform weighting')\n",
    "    ax1.plot(neighborCounts,means, color='g')\n",
    "    plt.ylabel('CV Score Means', color='g')\n",
    "    plt.xlabel('Number of Neighbors used')\n",
    "    ax2 = ax1.twinx() \n",
    "    ax2.plot(neighborCounts,stds, color='r')\n",
    "    plt.ylabel('CV Score Std Deviations', color='r')\n",
    "    #plt.show()\n",
    "    #same with distance weighting\n",
    "    ax3 = plt.subplot(122)\n",
    "    ax1.get_shared_y_axes().join(ax1, ax3)\n",
    "    stds = []\n",
    "    means = []\n",
    "    for i in neighborCounts:\n",
    "        knn = neighbors.KNeighborsRegressor(n_neighbors=i, weights='distance')\n",
    "        knn.fit(x,y)\n",
    "        scores = cross_val_score(knn,x,y, cv=5)\n",
    "        means.append(np.mean(scores))\n",
    "        stds.append(np.std(scores))\n",
    "    plt.title('KNN neighbor counts, distance weighting')\n",
    "    ax3.plot(neighborCounts,means, color='g')\n",
    "    plt.ylabel('CV Score Means', color='g')\n",
    "    plt.xlabel('Number of Neighbors used')\n",
    "    ax4 = ax3.twinx()\n",
    "    ax2.get_shared_y_axes().join(ax2, ax4)\n",
    "    ax4.plot(neighborCounts,stds, color='r')\n",
    "    plt.ylabel('CV Score Std Deviations', color='r')\n",
    "    plt.subplots_adjust(wspace=.3)\n",
    "    plt.show()\n",
    "\n",
    "x = df[['disability', 'mothersEdu','tvTime', 'cpuTime', 'outdoorTime']]\n",
    "y = df.allSocialSkills\n",
    "\n",
    "knnChart(x,y)  \n",
    "#add a grid"
   ]
  },
  {
   "cell_type": "code",
   "execution_count": 13,
   "metadata": {},
   "outputs": [],
   "source": [
    "def rfrEsts(x,y):\n",
    "    x = pd.DataFrame(x)\n",
    "    estimators = range(50,300,25)\n",
    "    plt.figure(figsize=[15,5])\n",
    "    ax1 = plt.subplot(121)\n",
    "    stds = []\n",
    "    means = []\n",
    "    for i in estimators:\n",
    "        rfr = ensemble.RandomForestRegressor(n_estimators=i, criterion='mse')\n",
    "        rfr.fit(x,y)\n",
    "        scores = cross_val_score(rfr,x,y, cv=5)\n",
    "        means.append(np.mean(scores))\n",
    "        stds.append(np.std(scores))\n",
    "    plt.title('Random Forest Regressor, MSE criterion')\n",
    "    ax1.plot(estimators,means, color='g')\n",
    "    plt.ylabel('CV Score Means', color='g')\n",
    "    plt.xlabel('Number of estimators used')\n",
    "    ax2 = ax1.twinx() \n",
    "    ax2.plot(estimators,stds, color='r')\n",
    "    plt.ylabel('CV Score Std Deviations', color='r')\n",
    "    #same with mean absolute error used\n",
    "    ax3 = plt.subplot(122)\n",
    "    ax1.get_shared_y_axes().join(ax1, ax3)\n",
    "    stds = []\n",
    "    means = []\n",
    "    for i in estimators:\n",
    "        rfr = ensemble.RandomForestRegressor(n_estimators=i, criterion='mae')\n",
    "        rfr.fit(x,y)\n",
    "        scores = cross_val_score(rfr,x,y, cv=5)\n",
    "        means.append(np.mean(scores))\n",
    "        stds.append(np.std(scores))\n",
    "    plt.title('Random Forest Regressor, MAE criterion')\n",
    "    ax3.plot(estimators,means, color='g')\n",
    "    plt.ylabel('CV Score Means', color='g')\n",
    "    plt.xlabel('Number of estimators  used')\n",
    "    ax4 = ax3.twinx()\n",
    "    ax2.get_shared_y_axes().join(ax2, ax4)\n",
    "    ax4.plot(estimators,stds, color='r')\n",
    "    plt.ylabel('CV Score Std Deviations', color='r')\n",
    "    plt.subplots_adjust(wspace=.3)\n",
    "    plt.show()\n",
    "    \n",
    "def rfrDepth(x,y,n_est):\n",
    "    x = pd.DataFrame(x)\n",
    "    depth = range(1,5)\n",
    "    plt.figure(figsize=[15,5])\n",
    "    ax1 = plt.subplot(121)\n",
    "    stds = []\n",
    "    means = []\n",
    "    for i in depth:\n",
    "        rfr = ensemble.RandomForestRegressor(n_estimators=n_est, criterion='mse', max_depth=i)\n",
    "        rfr.fit(x,y)\n",
    "        scores = cross_val_score(rfr,x,y, cv=5)\n",
    "        means.append(np.mean(scores))\n",
    "        stds.append(np.std(scores))\n",
    "    plt.title('Random Forest Regressor, MSE criterion')\n",
    "    ax1.plot(depth,means, color='g')\n",
    "    plt.ylabel('CV Score Means', color='g')\n",
    "    plt.xlabel('Max Depth of Tree')\n",
    "    ax2 = ax1.twinx() \n",
    "    ax2.plot(depth,stds, color='r')\n",
    "    plt.ylabel('CV Score Std Deviations', color='r')\n",
    "    #same with mean absolute error used\n",
    "    ax3 = plt.subplot(122)\n",
    "    ax1.get_shared_y_axes().join(ax1, ax3)\n",
    "    stds = []\n",
    "    means = []\n",
    "    for i in depth:\n",
    "        rfr = ensemble.RandomForestRegressor(n_estimators=n_est, criterion='mae', max_depth=i)\n",
    "        rfr.fit(x,y)\n",
    "        scores = cross_val_score(rfr,x,y, cv=5)\n",
    "        means.append(np.mean(scores))\n",
    "        stds.append(np.std(scores))\n",
    "    plt.title('Random Forest Regressor, MAE criterion')\n",
    "    ax3.plot(depth,means, color='g')\n",
    "    plt.ylabel('CV Score Means', color='g')\n",
    "    plt.xlabel('Number of estimators  used')\n",
    "    ax4 = ax3.twinx()\n",
    "    ax2.get_shared_y_axes().join(ax2, ax4)\n",
    "    ax4.plot(depth,stds, color='r')\n",
    "    plt.ylabel('CV Score Std Deviations', color='r')\n",
    "    plt.subplots_adjust(wspace=.3)\n",
    "    plt.show()\n",
    "    "
   ]
  },
  {
   "cell_type": "code",
   "execution_count": 15,
   "metadata": {},
   "outputs": [
    {
     "data": {
      "image/png": "[encoded data removed]",
      "text/plain": [
       "<Figure size 1080x360 with 4 Axes>"
      ]
     },
     "metadata": {},
     "output_type": "display_data"
    },
    {
     "data": {
      "image/png": "[encoded data removed]",
      "text/plain": [
       "<Figure size 1080x360 with 4 Axes>"
      ]
     },
     "metadata": {},
     "output_type": "display_data"
    }
   ],
   "source": [
    "x = df[['disability', 'mothersEdu','tvTime', 'cpuTime', 'outdoorTime']]\n",
    "y = df.allSocialSkills\n",
    "rfrEsts(x,y)\n",
    "rfrDepth(x,y,n_est=100)"
   ]
  },
  {
   "cell_type": "markdown",
   "metadata": {},
   "source": [
    "# one hot encode"
   ]
  },
  {
   "cell_type": "code",
   "execution_count": 3,
   "metadata": {},
   "outputs": [],
   "source": [
    "df = pd.get_dummies(df, columns=['gender', 'mothersEdu'])"
   ]
  },
  {
   "cell_type": "code",
   "execution_count": 4,
   "metadata": {},
   "outputs": [
    {
     "data": {
      "text/html": [
       "<div>\n",
       "<style scoped>\n",
       "    .dataframe tbody tr th:only-of-type {\n",
       "        vertical-align: middle;\n",
       "    }\n",
       "\n",
       "    .dataframe tbody tr th {\n",
       "        vertical-align: top;\n",
       "    }\n",
       "\n",
       "    .dataframe thead th {\n",
       "        text-align: right;\n",
       "    }\n",
       "</style>\n",
       "<table border=\"1\" class=\"dataframe\">\n",
       "  <thead>\n",
       "    <tr style=\"text-align: right;\">\n",
       "      <th></th>\n",
       "      <th>ID</th>\n",
       "      <th>age</th>\n",
       "      <th>disability</th>\n",
       "      <th>allSocialSkills</th>\n",
       "      <th>express</th>\n",
       "      <th>comply</th>\n",
       "      <th>disrupt</th>\n",
       "      <th>meetStReqs</th>\n",
       "      <th>meetPhysReqs</th>\n",
       "      <th>screenTime</th>\n",
       "      <th>tvTime</th>\n",
       "      <th>cpuTime</th>\n",
       "      <th>outdoorTime</th>\n",
       "      <th>gender_Female</th>\n",
       "      <th>gender_Male</th>\n",
       "      <th>mothersEdu_1</th>\n",
       "      <th>mothersEdu_2</th>\n",
       "      <th>mothersEdu_3</th>\n",
       "    </tr>\n",
       "  </thead>\n",
       "  <tbody>\n",
       "    <tr>\n",
       "      <th>0</th>\n",
       "      <td>30208</td>\n",
       "      <td>3.030801</td>\n",
       "      <td>0</td>\n",
       "      <td>78</td>\n",
       "      <td>38</td>\n",
       "      <td>24</td>\n",
       "      <td>12</td>\n",
       "      <td>0</td>\n",
       "      <td>0</td>\n",
       "      <td>3.000000</td>\n",
       "      <td>2.000000</td>\n",
       "      <td>1.0</td>\n",
       "      <td>1.500000</td>\n",
       "      <td>1</td>\n",
       "      <td>0</td>\n",
       "      <td>0</td>\n",
       "      <td>0</td>\n",
       "      <td>1</td>\n",
       "    </tr>\n",
       "    <tr>\n",
       "      <th>1</th>\n",
       "      <td>30400</td>\n",
       "      <td>3.865845</td>\n",
       "      <td>0</td>\n",
       "      <td>82</td>\n",
       "      <td>39</td>\n",
       "      <td>27</td>\n",
       "      <td>10</td>\n",
       "      <td>1</td>\n",
       "      <td>1</td>\n",
       "      <td>0.000000</td>\n",
       "      <td>0.000000</td>\n",
       "      <td>0.0</td>\n",
       "      <td>4.000000</td>\n",
       "      <td>1</td>\n",
       "      <td>0</td>\n",
       "      <td>0</td>\n",
       "      <td>0</td>\n",
       "      <td>1</td>\n",
       "    </tr>\n",
       "    <tr>\n",
       "      <th>2</th>\n",
       "      <td>30863</td>\n",
       "      <td>2.130048</td>\n",
       "      <td>0</td>\n",
       "      <td>68</td>\n",
       "      <td>35</td>\n",
       "      <td>18</td>\n",
       "      <td>11</td>\n",
       "      <td>1</td>\n",
       "      <td>0</td>\n",
       "      <td>0.857143</td>\n",
       "      <td>0.857143</td>\n",
       "      <td>0.0</td>\n",
       "      <td>1.714286</td>\n",
       "      <td>1</td>\n",
       "      <td>0</td>\n",
       "      <td>0</td>\n",
       "      <td>0</td>\n",
       "      <td>1</td>\n",
       "    </tr>\n",
       "    <tr>\n",
       "      <th>3</th>\n",
       "      <td>30530</td>\n",
       "      <td>2.105407</td>\n",
       "      <td>0</td>\n",
       "      <td>63</td>\n",
       "      <td>29</td>\n",
       "      <td>20</td>\n",
       "      <td>12</td>\n",
       "      <td>1</td>\n",
       "      <td>0</td>\n",
       "      <td>0.500000</td>\n",
       "      <td>0.500000</td>\n",
       "      <td>0.0</td>\n",
       "      <td>1.500000</td>\n",
       "      <td>0</td>\n",
       "      <td>1</td>\n",
       "      <td>0</td>\n",
       "      <td>0</td>\n",
       "      <td>1</td>\n",
       "    </tr>\n",
       "    <tr>\n",
       "      <th>4</th>\n",
       "      <td>300057</td>\n",
       "      <td>2.403833</td>\n",
       "      <td>0</td>\n",
       "      <td>78</td>\n",
       "      <td>38</td>\n",
       "      <td>25</td>\n",
       "      <td>11</td>\n",
       "      <td>1</td>\n",
       "      <td>0</td>\n",
       "      <td>0.357143</td>\n",
       "      <td>0.357143</td>\n",
       "      <td>0.0</td>\n",
       "      <td>1.500000</td>\n",
       "      <td>1</td>\n",
       "      <td>0</td>\n",
       "      <td>0</td>\n",
       "      <td>0</td>\n",
       "      <td>1</td>\n",
       "    </tr>\n",
       "  </tbody>\n",
       "</table>\n",
       "</div>"
      ],
      "text/plain": [
       "       ID       age  disability  allSocialSkills  express  comply  disrupt  \\\n",
       "0   30208  3.030801           0               78       38      24       12   \n",
       "1   30400  3.865845           0               82       39      27       10   \n",
       "2   30863  2.130048           0               68       35      18       11   \n",
       "3   30530  2.105407           0               63       29      20       12   \n",
       "4  300057  2.403833           0               78       38      25       11   \n",
       "\n",
       "   meetStReqs  meetPhysReqs  screenTime    tvTime  cpuTime  outdoorTime  \\\n",
       "0           0             0    3.000000  2.000000      1.0     1.500000   \n",
       "1           1             1    0.000000  0.000000      0.0     4.000000   \n",
       "2           1             0    0.857143  0.857143      0.0     1.714286   \n",
       "3           1             0    0.500000  0.500000      0.0     1.500000   \n",
       "4           1             0    0.357143  0.357143      0.0     1.500000   \n",
       "\n",
       "   gender_Female  gender_Male  mothersEdu_1  mothersEdu_2  mothersEdu_3  \n",
       "0              1            0             0             0             1  \n",
       "1              1            0             0             0             1  \n",
       "2              1            0             0             0             1  \n",
       "3              0            1             0             0             1  \n",
       "4              1            0             0             0             1  "
      ]
     },
     "execution_count": 4,
     "metadata": {},
     "output_type": "execute_result"
    }
   ],
   "source": [
    "df.head()"
   ]
  },
  {
   "cell_type": "markdown",
   "metadata": {},
   "source": [
    "# PCA with categorical (onehotencoded) variables"
   ]
  },
  {
   "cell_type": "markdown",
   "metadata": {},
   "source": [
    "Let's start with just 2 binary variables. How would these look on a scatter plot? We'd expect just 4 clusters of points:"
   ]
  },
  {
   "cell_type": "code",
   "execution_count": 5,
   "metadata": {},
   "outputs": [
    {
     "data": {
      "text/html": [
       "<div>\n",
       "<style scoped>\n",
       "    .dataframe tbody tr th:only-of-type {\n",
       "        vertical-align: middle;\n",
       "    }\n",
       "\n",
       "    .dataframe tbody tr th {\n",
       "        vertical-align: top;\n",
       "    }\n",
       "\n",
       "    .dataframe thead th {\n",
       "        text-align: right;\n",
       "    }\n",
       "</style>\n",
       "<table border=\"1\" class=\"dataframe\">\n",
       "  <thead>\n",
       "    <tr style=\"text-align: right;\">\n",
       "      <th></th>\n",
       "      <th></th>\n",
       "      <th>ID</th>\n",
       "    </tr>\n",
       "    <tr>\n",
       "      <th>mothersEdu_3</th>\n",
       "      <th>meetStReqs</th>\n",
       "      <th></th>\n",
       "    </tr>\n",
       "  </thead>\n",
       "  <tbody>\n",
       "    <tr>\n",
       "      <th rowspan=\"2\" valign=\"top\">0</th>\n",
       "      <th>0</th>\n",
       "      <td>116</td>\n",
       "    </tr>\n",
       "    <tr>\n",
       "      <th>1</th>\n",
       "      <td>28</td>\n",
       "    </tr>\n",
       "    <tr>\n",
       "      <th rowspan=\"2\" valign=\"top\">1</th>\n",
       "      <th>0</th>\n",
       "      <td>299</td>\n",
       "    </tr>\n",
       "    <tr>\n",
       "      <th>1</th>\n",
       "      <td>132</td>\n",
       "    </tr>\n",
       "  </tbody>\n",
       "</table>\n",
       "</div>"
      ],
      "text/plain": [
       "                          ID\n",
       "mothersEdu_3 meetStReqs     \n",
       "0            0           116\n",
       "             1            28\n",
       "1            0           299\n",
       "             1           132"
      ]
     },
     "metadata": {},
     "output_type": "display_data"
    },
    {
     "data": {
      "image/png": "[encoded data removed]",
      "text/plain": [
       "<Figure size 432x288 with 1 Axes>"
      ]
     },
     "metadata": {},
     "output_type": "display_data"
    }
   ],
   "source": [
    "grp = pd.DataFrame(df.groupby(['mothersEdu_3', 'meetStReqs'])['ID'].agg('count'))\n",
    "display(grp)\n",
    "plt.scatter(df.disability,df.gender_Male)\n",
    "plt.xlabel('disability')\n",
    "plt.ylabel('Male')\n",
    "plt.show()"
   ]
  },
  {
   "cell_type": "markdown",
   "metadata": {},
   "source": [
    "If we were to do PCA on this, what would we expect to get? The first eigenvector would just be a line that connects the two most \"populous\" cluster. In this case, the first component would be the abled points, and the seoncd would be the disabled. "
   ]
  },
  {
   "cell_type": "markdown",
   "metadata": {},
   "source": [
    "# Let's dig into some fake boolean data"
   ]
  },
  {
   "cell_type": "code",
   "execution_count": 635,
   "metadata": {},
   "outputs": [
    {
     "data": {
      "image/png": "[encoded data removed]",
      "text/plain": [
       "<Figure size 432x288 with 1 Axes>"
      ]
     },
     "metadata": {},
     "output_type": "display_data"
    }
   ],
   "source": [
    "fake = [\n",
    "    [1.,0.,1.,1.,0.,0.,0.,1.,1.,1.,1.,1.,0.],\n",
    "    [1.,0.,1.,1.,0.,0.,1.,0.,0.,0.,0.,0.,1.]\n",
    "]\n",
    "# fake = [\n",
    "#     [1.,1.,0.,0.,1.,1.,0.,0.,1.],\n",
    "#     [1.,0.,1.,0.,1.,0.,1.,0.,0.]\n",
    "# ]\n",
    "\n",
    "fake = pd.DataFrame(np.array(fake).T.tolist(),columns=['one','two'])\n",
    "x = fake.one\n",
    "y = fake.two\n",
    "hist, xbins,ybins = np.histogram2d(y,x, bins=range(3))\n",
    "X,Y = np.meshgrid(xbins[:-1], ybins[:-1])\n",
    "X = X[hist != 0]\n",
    "Y = Y[hist != 0]\n",
    "Z   = hist[hist != 0]\n",
    "fig, ax = plt.subplots()\n",
    "ax.scatter(x,y, s=100, alpha=0.4, marker='o')\n",
    "for i in range(len(Z)):\n",
    "    ax.annotate(str(int(Z[i]))+\" points\", xy=(X[i],Y[i]), xytext=(10,0), \n",
    "                textcoords=\"offset points\", fontsize=15 )\n",
    "\n",
    "plt.show()"
   ]
  },
  {
   "cell_type": "code",
   "execution_count": 685,
   "metadata": {},
   "outputs": [
    {
     "name": "stdout",
     "output_type": "stream",
     "text": [
      "Covariance Matrix:\n",
      " [[ 1.08333333 -0.02708333]\n",
      " [-0.02708333  1.08333333]]\n"
     ]
    }
   ],
   "source": [
    "X = StandardScaler(with_mean=True, with_std=True).fit_transform(fake)\n",
    "Xt = X.T\n",
    "Cx = np.cov(Xt)\n",
    "print('Covariance Matrix:\\n', Cx)\n",
    "eig_val_cov, eig_vec_cov = np.linalg.eig(Cx)"
   ]
  },
  {
   "cell_type": "code",
   "execution_count": 686,
   "metadata": {},
   "outputs": [
    {
     "name": "stdout",
     "output_type": "stream",
     "text": [
      "Eigenvector 1: \n",
      "[[-0.70710678]\n",
      " [-0.70710678]]\n",
      "Eigenvalue 1: 1.05625\n",
      "----------------------------------------\n",
      "Eigenvector 2: \n",
      "[[ 0.70710678]\n",
      " [-0.70710678]]\n",
      "Eigenvalue 2: 1.1104166666666664\n",
      "----------------------------------------\n",
      "The percentage of total variance in the dataset explained by each component calculated by hand.\n",
      " [0.4875 0.5125]\n"
     ]
    }
   ],
   "source": [
    "# Inspecting the eigenvalues and eigenvectors.\n",
    "for i in range(len(eig_val_cov)):\n",
    "    eigvec_cov = eig_vec_cov[:, i].reshape(1, 2).T\n",
    "    print('Eigenvector {}: \\n{}'.format(i + 1, eigvec_cov))\n",
    "    print('Eigenvalue {}: {}'.format(i + 1, eig_val_cov[i]))\n",
    "    print(40 * '-')\n",
    "\n",
    "print(\n",
    "    'The percentage of total variance in the dataset explained by each',\n",
    "    'component calculated by hand.\\n',\n",
    "    eig_val_cov / sum(eig_val_cov)\n",
    ")"
   ]
  },
  {
   "cell_type": "code",
   "execution_count": 688,
   "metadata": {},
   "outputs": [
    {
     "data": {
      "text/plain": [
       "array([[-0.70710678,  0.70710678],\n",
       "       [-0.70710678, -0.70710678]])"
      ]
     },
     "execution_count": 688,
     "metadata": {},
     "output_type": "execute_result"
    }
   ],
   "source": [
    "from scipy.stats import rankdata\n",
    "ev_order = rankdata(eig_val_cov, method='ordinal')\n",
    "ev_order\n",
    "eig_vec_cov = np.asarray([eig_vec_cov[i-1] for i in ev_order])\n",
    "eig_vec_cov"
   ]
  },
  {
   "cell_type": "code",
   "execution_count": 690,
   "metadata": {
    "scrolled": true
   },
   "outputs": [
    {
     "data": {
      "image/png": "[encoded data removed]",
      "text/plain": [
       "<Figure size 432x288 with 1 Axes>"
      ]
     },
     "metadata": {},
     "output_type": "display_data"
    }
   ],
   "source": [
    "#Create the components\n",
    "P = eig_vec_cov[:,0]\n",
    "comp1 = P.T.dot(Xt)\n",
    "P = eig_vec_cov[:,1]\n",
    "comp2 = P.T.dot(Xt)\n",
    "\n",
    "#Round them for convenient labelling\n",
    "x=np.round(comp1,2)\n",
    "y=np.round(comp2,2)\n",
    "\n",
    "##set histogram bins to be neatly around the 4 possible values\n",
    "xuniq = list(set(x))\n",
    "xuniq.sort()\n",
    "xedges = np.asarray([i+.5 for i in xuniq])\n",
    "xedges = np.insert(xedges,0,xuniq[0]-.5)\n",
    "yuniq = list(set(y))\n",
    "yuniq.sort()\n",
    "yedges = np.asarray([i+.5 for i in yuniq])\n",
    "yedges = np.insert(yedges,0,yuniq[0]-.5)\n",
    "bins=np.asarray([yedges,xedges])\n",
    "\n",
    "#Create 2D histogram for labels\n",
    "hist, xbins,ybins = np.histogram2d(y,x, bins=bins)\n",
    "#create meshgrid for label coordinates\n",
    "B,C = np.meshgrid(xuniq, yuniq)\n",
    "#Don't label zeroes in the histogram\n",
    "X = B[hist != 0]\n",
    "Y = C[hist != 0]\n",
    "Z   = hist[hist != 0]\n",
    "\n",
    "fig, ax = plt.subplots()\n",
    "ax.scatter(x,y, s=100, alpha=0.4, marker='o')\n",
    "plt.xlabel('First Component')\n",
    "plt.ylabel('Second Component')\n",
    "for i in range(len(Z)):\n",
    "    ax.annotate(str(int(Z[i]))+\" points\", xy=(X[i],Y[i]), xytext=(10,-1), \n",
    "                textcoords=\"offset points\", fontsize=15)\n",
    "plt.show()"
   ]
  },
  {
   "cell_type": "code",
   "execution_count": null,
   "metadata": {},
   "outputs": [],
   "source": []
  },
  {
   "cell_type": "code",
   "execution_count": 606,
   "metadata": {},
   "outputs": [
    {
     "data": {
      "image/png": "[encoded data removed]",
      "text/plain": [
       "<Figure size 1080x360 with 3 Axes>"
      ]
     },
     "metadata": {},
     "output_type": "display_data"
    }
   ],
   "source": [
    "\n",
    "fig = plt.figure(figsize=[15,5])\n",
    "gs = gridspec.GridSpec(1, 3, width_ratios=[1, 8, 1]) \n",
    "ax1 = fig.add_subplot(gs[0])\n",
    "ax1.scatter([0 for y in fake.one],fake.one, color='red')\n",
    "plt.xlabel('First Component')\n",
    "plt.xticks([])\n",
    "\n",
    "ax2 = fig.add_subplot(gs[1], sharey=ax1)\n",
    "ax2.axis = ax1.axis\n",
    "ax2.plot(fake.one, color='red', marker='o', linestyle='None', alpha=.5)\n",
    "ax2.plot(fake.two, color='blue', marker='o', linestyle='None', alpha=.5)\n",
    "plt.xlabel('Plotted Components')\n",
    "plt.setp(ax2.get_yticklabels(), visible=False)\n",
    "plt.xticks([])\n",
    "\n",
    "\n",
    "ax3 = fig.add_subplot(gs[2], sharey=ax1)\n",
    "ax3.scatter([0 for y in fake.two],fake.two, color='blue')\n",
    "plt.xlabel('Second Component')\n",
    "plt.xticks([])\n",
    "\n",
    "\n",
    "plt.show()"
   ]
  },
  {
   "cell_type": "code",
   "execution_count": 607,
   "metadata": {},
   "outputs": [
    {
     "data": {
      "image/png": "[encoded data removed]",
      "text/plain": [
       "<Figure size 1080x360 with 3 Axes>"
      ]
     },
     "metadata": {},
     "output_type": "display_data"
    }
   ],
   "source": [
    "\n",
    "fig = plt.figure(figsize=[15,5])\n",
    "gs = gridspec.GridSpec(1, 3, width_ratios=[1, 8, 1]) \n",
    "ax1 = fig.add_subplot(gs[0])\n",
    "ax1.scatter([0 for y in comp1],comp1, color='green')\n",
    "plt.xlabel('First Component')\n",
    "plt.xticks([])\n",
    "\n",
    "ax2 = fig.add_subplot(gs[1], sharey=ax1)\n",
    "ax2.axis = ax1.axis\n",
    "ax2.plot(comp1, color='green', marker='o', linestyle='None', alpha=.5)\n",
    "ax2.plot(comp2, color='purple', marker='o', linestyle='None', alpha=.5)\n",
    "plt.xlabel('Plotted Components')\n",
    "plt.setp(ax2.get_yticklabels(), visible=False)\n",
    "plt.xticks([])\n",
    "\n",
    "\n",
    "ax3 = fig.add_subplot(gs[2], sharey=ax1)\n",
    "ax3.scatter([0 for y in comp2],comp2, color='purple')\n",
    "plt.xlabel('Second Component')\n",
    "plt.xticks([])\n",
    "\n",
    "\n",
    "plt.show()"
   ]
  },
  {
   "cell_type": "code",
   "execution_count": null,
   "metadata": {},
   "outputs": [],
   "source": []
  },
  {
   "cell_type": "code",
   "execution_count": null,
   "metadata": {},
   "outputs": [],
   "source": [
    "\n"
   ]
  },
  {
   "cell_type": "code",
   "execution_count": null,
   "metadata": {},
   "outputs": [],
   "source": []
  },
  {
   "cell_type": "code",
   "execution_count": 560,
   "metadata": {},
   "outputs": [
    {
     "data": {
      "text/plain": [
       "array([[0., 0., 0.],\n",
       "       [0., 5., 0.],\n",
       "       [3., 1., 3.]])"
      ]
     },
     "execution_count": 560,
     "metadata": {},
     "output_type": "execute_result"
    }
   ],
   "source": [
    "hist\n"
   ]
  },
  {
   "cell_type": "code",
   "execution_count": 561,
   "metadata": {},
   "outputs": [
    {
     "data": {
      "text/plain": [
       "array([[-2. , -1. ,  0.5,  2. ],\n",
       "       [-1.5, -0.5,  1. ,  2.5]])"
      ]
     },
     "execution_count": 561,
     "metadata": {},
     "output_type": "execute_result"
    }
   ],
   "source": [
    "bins"
   ]
  },
  {
   "cell_type": "code",
   "execution_count": 545,
   "metadata": {},
   "outputs": [
    {
     "data": {
      "text/plain": [
       "array([[-1. , -1. , -1. ],\n",
       "       [ 0.5,  0.5,  0.5],\n",
       "       [ 2. ,  2. ,  2. ]])"
      ]
     },
     "execution_count": 545,
     "metadata": {},
     "output_type": "execute_result"
    }
   ],
   "source": [
    "C"
   ]
  },
  {
   "cell_type": "code",
   "execution_count": 546,
   "metadata": {},
   "outputs": [
    {
     "data": {
      "text/plain": [
       "array([ 0. , -1.5,  0. ,  1.5])"
      ]
     },
     "execution_count": 546,
     "metadata": {},
     "output_type": "execute_result"
    }
   ],
   "source": [
    "X"
   ]
  },
  {
   "cell_type": "code",
   "execution_count": 547,
   "metadata": {},
   "outputs": [
    {
     "data": {
      "text/plain": [
       "array([0.5, 2. , 2. , 2. ])"
      ]
     },
     "execution_count": 547,
     "metadata": {},
     "output_type": "execute_result"
    }
   ],
   "source": [
    "Y"
   ]
  },
  {
   "cell_type": "code",
   "execution_count": 549,
   "metadata": {},
   "outputs": [
    {
     "data": {
      "text/plain": [
       "array([[-2.5, -1. ,  0.5,  2. ],\n",
       "       [-2. , -0.5,  1. ,  2.5]])"
      ]
     },
     "execution_count": 549,
     "metadata": {},
     "output_type": "execute_result"
    }
   ],
   "source": [
    "bins"
   ]
  },
  {
   "cell_type": "code",
   "execution_count": 524,
   "metadata": {
    "scrolled": true
   },
   "outputs": [
    {
     "data": {
      "text/plain": [
       "array([[0., 3., 0.],\n",
       "       [5., 0., 1.],\n",
       "       [0., 3., 0.]])"
      ]
     },
     "execution_count": 524,
     "metadata": {},
     "output_type": "execute_result"
    }
   ],
   "source": [
    "hist"
   ]
  },
  {
   "cell_type": "code",
   "execution_count": 509,
   "metadata": {},
   "outputs": [
    {
     "name": "stdout",
     "output_type": "stream",
     "text": [
      "[-1.5  0.   1.5 -1.5  0.   1.5 -1.5  0.   1.5] \n",
      "\n",
      " [-1.  -1.  -1.   0.5  0.5  0.5  2.   2.   2. ]\n"
     ]
    }
   ],
   "source": [
    "print(X,'\\n\\n',Y)"
   ]
  },
  {
   "cell_type": "code",
   "execution_count": 510,
   "metadata": {},
   "outputs": [
    {
     "name": "stdout",
     "output_type": "stream",
     "text": [
      "[[-1.5  0.   1.5]\n",
      " [-1.5  0.   1.5]\n",
      " [-1.5  0.   1.5]] \n",
      "\n",
      " [[-1.  -1.  -1. ]\n",
      " [ 0.5  0.5  0.5]\n",
      " [ 2.   2.   2. ]]\n"
     ]
    }
   ],
   "source": [
    "print(B,'\\n\\n',C)"
   ]
  },
  {
   "cell_type": "code",
   "execution_count": 529,
   "metadata": {},
   "outputs": [
    {
     "data": {
      "text/plain": [
       "array([5., 3., 1., 3.])"
      ]
     },
     "execution_count": 529,
     "metadata": {},
     "output_type": "execute_result"
    }
   ],
   "source": [
    "Z"
   ]
  },
  {
   "cell_type": "code",
   "execution_count": null,
   "metadata": {},
   "outputs": [],
   "source": []
  },
  {
   "cell_type": "code",
   "execution_count": 244,
   "metadata": {},
   "outputs": [
    {
     "data": {
      "text/plain": [
       "array([ 0.5,  0.5,  0.5,  0.5,  0.5,  0.5,  2. , -1. , -1. , -1. , -1. ,\n",
       "       -1. ])"
      ]
     },
     "execution_count": 244,
     "metadata": {},
     "output_type": "execute_result"
    }
   ],
   "source": [
    "comp2"
   ]
  },
  {
   "cell_type": "code",
   "execution_count": null,
   "metadata": {},
   "outputs": [],
   "source": []
  },
  {
   "cell_type": "code",
   "execution_count": null,
   "metadata": {},
   "outputs": [],
   "source": []
  },
  {
   "cell_type": "code",
   "execution_count": 258,
   "metadata": {},
   "outputs": [
    {
     "data": {
      "text/html": [
       "<div>\n",
       "<style scoped>\n",
       "    .dataframe tbody tr th:only-of-type {\n",
       "        vertical-align: middle;\n",
       "    }\n",
       "\n",
       "    .dataframe tbody tr th {\n",
       "        vertical-align: top;\n",
       "    }\n",
       "\n",
       "    .dataframe thead th {\n",
       "        text-align: right;\n",
       "    }\n",
       "</style>\n",
       "<table border=\"1\" class=\"dataframe\">\n",
       "  <thead>\n",
       "    <tr style=\"text-align: right;\">\n",
       "      <th></th>\n",
       "      <th>disability</th>\n",
       "      <th>meetStReqs</th>\n",
       "      <th>meetPhysReqs</th>\n",
       "      <th>gender_Female</th>\n",
       "      <th>gender_Male</th>\n",
       "      <th>mothersEdu_1</th>\n",
       "      <th>mothersEdu_2</th>\n",
       "      <th>mothersEdu_3</th>\n",
       "    </tr>\n",
       "  </thead>\n",
       "  <tbody>\n",
       "    <tr>\n",
       "      <th>disability</th>\n",
       "      <td>1.000000</td>\n",
       "      <td>-0.108984</td>\n",
       "      <td>0.033321</td>\n",
       "      <td>-0.098547</td>\n",
       "      <td>0.098547</td>\n",
       "      <td>0.050854</td>\n",
       "      <td>0.030491</td>\n",
       "      <td>-0.049550</td>\n",
       "    </tr>\n",
       "    <tr>\n",
       "      <th>meetStReqs</th>\n",
       "      <td>-0.108984</td>\n",
       "      <td>1.000000</td>\n",
       "      <td>0.030705</td>\n",
       "      <td>0.019774</td>\n",
       "      <td>-0.019774</td>\n",
       "      <td>-0.067050</td>\n",
       "      <td>-0.085005</td>\n",
       "      <td>0.108107</td>\n",
       "    </tr>\n",
       "    <tr>\n",
       "      <th>meetPhysReqs</th>\n",
       "      <td>0.033321</td>\n",
       "      <td>0.030705</td>\n",
       "      <td>1.000000</td>\n",
       "      <td>-0.088349</td>\n",
       "      <td>0.088349</td>\n",
       "      <td>-0.006611</td>\n",
       "      <td>0.091772</td>\n",
       "      <td>-0.084962</td>\n",
       "    </tr>\n",
       "    <tr>\n",
       "      <th>gender_Female</th>\n",
       "      <td>-0.098547</td>\n",
       "      <td>0.019774</td>\n",
       "      <td>-0.088349</td>\n",
       "      <td>1.000000</td>\n",
       "      <td>-1.000000</td>\n",
       "      <td>0.054826</td>\n",
       "      <td>0.009699</td>\n",
       "      <td>-0.031295</td>\n",
       "    </tr>\n",
       "    <tr>\n",
       "      <th>gender_Male</th>\n",
       "      <td>0.098547</td>\n",
       "      <td>-0.019774</td>\n",
       "      <td>0.088349</td>\n",
       "      <td>-1.000000</td>\n",
       "      <td>1.000000</td>\n",
       "      <td>-0.054826</td>\n",
       "      <td>-0.009699</td>\n",
       "      <td>0.031295</td>\n",
       "    </tr>\n",
       "    <tr>\n",
       "      <th>mothersEdu_1</th>\n",
       "      <td>0.050854</td>\n",
       "      <td>-0.067050</td>\n",
       "      <td>-0.006611</td>\n",
       "      <td>0.054826</td>\n",
       "      <td>-0.054826</td>\n",
       "      <td>1.000000</td>\n",
       "      <td>-0.095229</td>\n",
       "      <td>-0.311004</td>\n",
       "    </tr>\n",
       "    <tr>\n",
       "      <th>mothersEdu_2</th>\n",
       "      <td>0.030491</td>\n",
       "      <td>-0.085005</td>\n",
       "      <td>0.091772</td>\n",
       "      <td>0.009699</td>\n",
       "      <td>-0.009699</td>\n",
       "      <td>-0.095229</td>\n",
       "      <td>1.000000</td>\n",
       "      <td>-0.916473</td>\n",
       "    </tr>\n",
       "    <tr>\n",
       "      <th>mothersEdu_3</th>\n",
       "      <td>-0.049550</td>\n",
       "      <td>0.108107</td>\n",
       "      <td>-0.084962</td>\n",
       "      <td>-0.031295</td>\n",
       "      <td>0.031295</td>\n",
       "      <td>-0.311004</td>\n",
       "      <td>-0.916473</td>\n",
       "      <td>1.000000</td>\n",
       "    </tr>\n",
       "  </tbody>\n",
       "</table>\n",
       "</div>"
      ],
      "text/plain": [
       "               disability  meetStReqs  meetPhysReqs  gender_Female  \\\n",
       "disability       1.000000   -0.108984      0.033321      -0.098547   \n",
       "meetStReqs      -0.108984    1.000000      0.030705       0.019774   \n",
       "meetPhysReqs     0.033321    0.030705      1.000000      -0.088349   \n",
       "gender_Female   -0.098547    0.019774     -0.088349       1.000000   \n",
       "gender_Male      0.098547   -0.019774      0.088349      -1.000000   \n",
       "mothersEdu_1     0.050854   -0.067050     -0.006611       0.054826   \n",
       "mothersEdu_2     0.030491   -0.085005      0.091772       0.009699   \n",
       "mothersEdu_3    -0.049550    0.108107     -0.084962      -0.031295   \n",
       "\n",
       "               gender_Male  mothersEdu_1  mothersEdu_2  mothersEdu_3  \n",
       "disability        0.098547      0.050854      0.030491     -0.049550  \n",
       "meetStReqs       -0.019774     -0.067050     -0.085005      0.108107  \n",
       "meetPhysReqs      0.088349     -0.006611      0.091772     -0.084962  \n",
       "gender_Female    -1.000000      0.054826      0.009699     -0.031295  \n",
       "gender_Male       1.000000     -0.054826     -0.009699      0.031295  \n",
       "mothersEdu_1     -0.054826      1.000000     -0.095229     -0.311004  \n",
       "mothersEdu_2     -0.009699     -0.095229      1.000000     -0.916473  \n",
       "mothersEdu_3      0.031295     -0.311004     -0.916473      1.000000  "
      ]
     },
     "execution_count": 258,
     "metadata": {},
     "output_type": "execute_result"
    }
   ],
   "source": [
    "df[['disability','meetStReqs','meetPhysReqs','gender_Female', 'gender_Male',\n",
    "       'mothersEdu_1', 'mothersEdu_2', 'mothersEdu_3']].corr()"
   ]
  },
  {
   "cell_type": "code",
   "execution_count": 123,
   "metadata": {},
   "outputs": [
    {
     "name": "stdout",
     "output_type": "stream",
     "text": [
      "Covariance Matrix:\n",
      " [[0.18804424 0.02102712]\n",
      " [0.02102712 0.20118164]]\n"
     ]
    },
    {
     "name": "stderr",
     "output_type": "stream",
     "text": [
      "c:\\users\\greg\\appdata\\local\\programs\\python\\python37-32\\lib\\site-packages\\sklearn\\preprocessing\\data.py:617: DataConversionWarning: Data with input dtype uint8, int64 were all converted to float64 by StandardScaler.\n",
      "  return self.partial_fit(X, y)\n",
      "c:\\users\\greg\\appdata\\local\\programs\\python\\python37-32\\lib\\site-packages\\sklearn\\base.py:462: DataConversionWarning: Data with input dtype uint8, int64 were all converted to float64 by StandardScaler.\n",
      "  return self.fit(X, **fit_params).transform(X)\n"
     ]
    }
   ],
   "source": [
    "pcacols = df[['mothersEdu_3', 'meetStReqs']]\n",
    "\n",
    "X = StandardScaler(with_std=False, with_mean=True).fit_transform(pcacols)\n",
    "Xt = X.T\n",
    "#Xt = [df.disability.tolist(),df.gender_Male.tolist()]\n",
    "Cx = np.cov(Xt)\n",
    "print('Covariance Matrix:\\n', Cx)\n",
    "eig_val_cov, eig_vec_cov = np.linalg.eig(Cx)"
   ]
  },
  {
   "cell_type": "code",
   "execution_count": 125,
   "metadata": {},
   "outputs": [
    {
     "data": {
      "text/plain": [
       "<matplotlib.collections.PathCollection at 0x13280c90>"
      ]
     },
     "execution_count": 125,
     "metadata": {},
     "output_type": "execute_result"
    },
    {
     "data": {
      "image/png": "[encoded data removed]",
      "text/plain": [
       "<Figure size 432x288 with 1 Axes>"
      ]
     },
     "metadata": {},
     "output_type": "display_data"
    }
   ],
   "source": [
    "plt.scatter(Xt[0],Xt[1])"
   ]
  },
  {
   "cell_type": "code",
   "execution_count": 126,
   "metadata": {},
   "outputs": [
    {
     "name": "stdout",
     "output_type": "stream",
     "text": [
      "Eigenvector 1: \n",
      "[[-0.80566153]\n",
      " [ 0.59237614]]\n",
      "Eigenvalue 1: 0.17258369559787098\n",
      "----------------------------------------\n",
      "Eigenvector 2: \n",
      "[[-0.59237614]\n",
      " [-0.80566153]]\n",
      "Eigenvalue 2: 0.2166421792695738\n",
      "----------------------------------------\n",
      "The percentage of total variance in the dataset explained by each component calculated by hand.\n",
      " [0.44340242 0.55659758]\n"
     ]
    }
   ],
   "source": [
    "# Inspecting the eigenvalues and eigenvectors.\n",
    "for i in range(len(eig_val_cov)):\n",
    "    eigvec_cov = eig_vec_cov[:, i].reshape(1, 2).T\n",
    "    print('Eigenvector {}: \\n{}'.format(i + 1, eigvec_cov))\n",
    "    print('Eigenvalue {}: {}'.format(i + 1, eig_val_cov[i]))\n",
    "    print(40 * '-')\n",
    "\n",
    "print(\n",
    "    'The percentage of total variance in the dataset explained by each',\n",
    "    'component calculated by hand.\\n',\n",
    "    eig_val_cov / sum(eig_val_cov)\n",
    ")"
   ]
  },
  {
   "cell_type": "code",
   "execution_count": 127,
   "metadata": {},
   "outputs": [
    {
     "data": {
      "image/png": "[encoded data removed]",
      "text/plain": [
       "<Figure size 1080x360 with 3 Axes>"
      ]
     },
     "metadata": {},
     "output_type": "display_data"
    }
   ],
   "source": [
    "\n",
    "fig = plt.figure(figsize=[15,5])\n",
    "gs = gridspec.GridSpec(1, 3, width_ratios=[1, 8, 1]) \n",
    "ax1 = plt.subplot(gs[0])\n",
    "ax1.scatter([0 for y in df.mothersEdu_3],df.mothersEdu_3, color='red')\n",
    "plt.xlabel('Mothers Education - 3')\n",
    "plt.xticks([])\n",
    "plt.yticks([0,1])\n",
    "\n",
    "ax2 = plt.subplot(gs[1])\n",
    "ax2.axis = ax1.axis\n",
    "ax2.plot(df.mothersEdu_3, color='red', marker='.', linestyle='None')#, alpha=.5)\n",
    "ax2.plot(df.meetStReqs, color='blue', marker='.', linestyle='None', alpha=.2)\n",
    "plt.xlabel('Plotted')\n",
    "plt.setp(ax2.get_yticklabels(), visible=False)\n",
    "plt.xticks([])\n",
    "\n",
    "\n",
    "\n",
    "ax3 = plt.subplot(gs[2])\n",
    "ax3.scatter([0 for y in df.meetStReqs],df.meetStReqs, color='blue')\n",
    "plt.xlabel('Meet Screen Time Requirements')\n",
    "plt.xticks([])\n",
    "\n",
    "\n",
    "plt.show()"
   ]
  },
  {
   "cell_type": "code",
   "execution_count": 128,
   "metadata": {},
   "outputs": [
    {
     "data": {
      "text/plain": [
       "array([[-0.80566153, -0.59237614],\n",
       "       [ 0.59237614, -0.80566153]])"
      ]
     },
     "execution_count": 128,
     "metadata": {},
     "output_type": "execute_result"
    }
   ],
   "source": [
    "eig_vec_cov"
   ]
  },
  {
   "cell_type": "code",
   "execution_count": null,
   "metadata": {},
   "outputs": [],
   "source": []
  },
  {
   "cell_type": "code",
   "execution_count": 145,
   "metadata": {},
   "outputs": [],
   "source": [
    "P = eig_vec_cov[:,0]\n",
    "comp1 = P.T.dot(Xt)\n",
    "P = eig_vec_cov[:,1]\n",
    "comp2 = P.T.dot(Xt)\n"
   ]
  },
  {
   "cell_type": "code",
   "execution_count": 146,
   "metadata": {},
   "outputs": [
    {
     "data": {
      "image/png": "[encoded data removed]",
      "text/plain": [
       "<Figure size 1080x360 with 3 Axes>"
      ]
     },
     "metadata": {},
     "output_type": "display_data"
    }
   ],
   "source": [
    "\n",
    "fig = plt.figure(figsize=[15,5])\n",
    "gs = gridspec.GridSpec(1, 3, width_ratios=[1, 8, 1]) \n",
    "ax1 = fig.add_subplot(gs[0])\n",
    "ax1.scatter([0 for y in comp1],comp1, color='green')\n",
    "plt.xlabel('First Component')\n",
    "plt.xticks([])\n",
    "\n",
    "ax2 = fig.add_subplot(gs[1], sharey=ax1)\n",
    "ax2.axis = ax1.axis\n",
    "ax2.plot(comp1, color='green', marker='.', linestyle='None', alpha=.5)\n",
    "ax2.plot(comp2, color='purple', marker='.', linestyle='None', alpha=.5)\n",
    "plt.xlabel('Plotted Components')\n",
    "plt.setp(ax2.get_yticklabels(), visible=False)\n",
    "plt.xticks([])\n",
    "\n",
    "\n",
    "ax3 = fig.add_subplot(gs[2], sharey=ax1)\n",
    "ax3.scatter([0 for y in comp2],comp2, color='purple')\n",
    "plt.xlabel('Second Component')\n",
    "plt.xticks([])\n",
    "\n",
    "\n",
    "plt.show()"
   ]
  },
  {
   "cell_type": "code",
   "execution_count": 141,
   "metadata": {},
   "outputs": [
    {
     "data": {
      "image/png": "[encoded data removed]",
      "text/plain": [
       "<Figure size 432x288 with 1 Axes>"
      ]
     },
     "metadata": {},
     "output_type": "display_data"
    }
   ],
   "source": [
    "plt.scatter(comp2, comp1)\n",
    "plt.gca().set_aspect('equal', adjustable='box')"
   ]
  },
  {
   "cell_type": "code",
   "execution_count": null,
   "metadata": {},
   "outputs": [],
   "source": []
  },
  {
   "cell_type": "code",
   "execution_count": null,
   "metadata": {},
   "outputs": [],
   "source": []
  },
  {
   "cell_type": "code",
   "execution_count": null,
   "metadata": {},
   "outputs": [],
   "source": []
  },
  {
   "cell_type": "code",
   "execution_count": 268,
   "metadata": {},
   "outputs": [],
   "source": [
    "spca = PCA(n_components=2)"
   ]
  },
  {
   "cell_type": "code",
   "execution_count": 269,
   "metadata": {},
   "outputs": [
    {
     "data": {
      "text/plain": [
       "PCA(copy=True, iterated_power='auto', n_components=2, random_state=None,\n",
       "  svd_solver='auto', tol=0.0, whiten=False)"
      ]
     },
     "execution_count": 269,
     "metadata": {},
     "output_type": "execute_result"
    }
   ],
   "source": [
    "spca.fit(pcacols)"
   ]
  },
  {
   "cell_type": "code",
   "execution_count": 270,
   "metadata": {},
   "outputs": [
    {
     "data": {
      "text/plain": [
       "array([[ 0.59237614,  0.80566153],\n",
       "       [-0.80566153,  0.59237614]])"
      ]
     },
     "execution_count": 270,
     "metadata": {},
     "output_type": "execute_result"
    }
   ],
   "source": [
    "spca.components_"
   ]
  },
  {
   "cell_type": "code",
   "execution_count": null,
   "metadata": {},
   "outputs": [],
   "source": []
  },
  {
   "cell_type": "code",
   "execution_count": 43,
   "metadata": {},
   "outputs": [
    {
     "data": {
      "text/html": [
       "<div>\n",
       "<style scoped>\n",
       "    .dataframe tbody tr th:only-of-type {\n",
       "        vertical-align: middle;\n",
       "    }\n",
       "\n",
       "    .dataframe tbody tr th {\n",
       "        vertical-align: top;\n",
       "    }\n",
       "\n",
       "    .dataframe thead th {\n",
       "        text-align: right;\n",
       "    }\n",
       "</style>\n",
       "<table border=\"1\" class=\"dataframe\">\n",
       "  <thead>\n",
       "    <tr style=\"text-align: right;\">\n",
       "      <th></th>\n",
       "      <th>ID</th>\n",
       "      <th>age</th>\n",
       "      <th>disability</th>\n",
       "      <th>mothersEdu</th>\n",
       "      <th>allSocialSkills</th>\n",
       "      <th>express</th>\n",
       "      <th>comply</th>\n",
       "      <th>disrupt</th>\n",
       "      <th>meetStReqs</th>\n",
       "      <th>meetPhysReqs</th>\n",
       "      <th>screenTime</th>\n",
       "      <th>tvTime</th>\n",
       "      <th>cpuTime</th>\n",
       "      <th>outdoorTime</th>\n",
       "      <th>gender_Female</th>\n",
       "      <th>gender_Male</th>\n",
       "    </tr>\n",
       "  </thead>\n",
       "  <tbody>\n",
       "    <tr>\n",
       "      <th>ID</th>\n",
       "      <td>1.000000</td>\n",
       "      <td>-0.055861</td>\n",
       "      <td>-0.044302</td>\n",
       "      <td>0.097083</td>\n",
       "      <td>-0.043333</td>\n",
       "      <td>-0.010763</td>\n",
       "      <td>-0.024063</td>\n",
       "      <td>0.087450</td>\n",
       "      <td>0.029624</td>\n",
       "      <td>-0.051090</td>\n",
       "      <td>-0.028493</td>\n",
       "      <td>-0.018725</td>\n",
       "      <td>-0.033882</td>\n",
       "      <td>-0.078397</td>\n",
       "      <td>0.004026</td>\n",
       "      <td>-0.004026</td>\n",
       "    </tr>\n",
       "    <tr>\n",
       "      <th>age</th>\n",
       "      <td>-0.055861</td>\n",
       "      <td>1.000000</td>\n",
       "      <td>0.099874</td>\n",
       "      <td>-0.004323</td>\n",
       "      <td>0.233644</td>\n",
       "      <td>0.195447</td>\n",
       "      <td>0.276192</td>\n",
       "      <td>0.025579</td>\n",
       "      <td>-0.206479</td>\n",
       "      <td>0.078614</td>\n",
       "      <td>0.133485</td>\n",
       "      <td>0.107997</td>\n",
       "      <td>0.118716</td>\n",
       "      <td>0.038923</td>\n",
       "      <td>-0.047227</td>\n",
       "      <td>0.047227</td>\n",
       "    </tr>\n",
       "    <tr>\n",
       "      <th>disability</th>\n",
       "      <td>-0.044302</td>\n",
       "      <td>0.099874</td>\n",
       "      <td>1.000000</td>\n",
       "      <td>-0.058910</td>\n",
       "      <td>-0.166169</td>\n",
       "      <td>-0.198419</td>\n",
       "      <td>-0.141133</td>\n",
       "      <td>-0.036276</td>\n",
       "      <td>-0.108984</td>\n",
       "      <td>0.033321</td>\n",
       "      <td>0.042901</td>\n",
       "      <td>0.034862</td>\n",
       "      <td>0.036876</td>\n",
       "      <td>0.016628</td>\n",
       "      <td>-0.098547</td>\n",
       "      <td>0.098547</td>\n",
       "    </tr>\n",
       "    <tr>\n",
       "      <th>mothersEdu</th>\n",
       "      <td>0.097083</td>\n",
       "      <td>-0.004323</td>\n",
       "      <td>-0.058910</td>\n",
       "      <td>1.000000</td>\n",
       "      <td>0.007182</td>\n",
       "      <td>-0.016003</td>\n",
       "      <td>0.032665</td>\n",
       "      <td>-0.004370</td>\n",
       "      <td>0.113676</td>\n",
       "      <td>-0.069275</td>\n",
       "      <td>-0.203934</td>\n",
       "      <td>-0.191506</td>\n",
       "      <td>-0.126662</td>\n",
       "      <td>-0.112188</td>\n",
       "      <td>-0.044888</td>\n",
       "      <td>0.044888</td>\n",
       "    </tr>\n",
       "    <tr>\n",
       "      <th>allSocialSkills</th>\n",
       "      <td>-0.043333</td>\n",
       "      <td>0.233644</td>\n",
       "      <td>-0.166169</td>\n",
       "      <td>0.007182</td>\n",
       "      <td>1.000000</td>\n",
       "      <td>0.810584</td>\n",
       "      <td>0.878970</td>\n",
       "      <td>-0.478303</td>\n",
       "      <td>0.043760</td>\n",
       "      <td>0.064205</td>\n",
       "      <td>-0.071117</td>\n",
       "      <td>-0.068313</td>\n",
       "      <td>-0.043249</td>\n",
       "      <td>0.101425</td>\n",
       "      <td>0.111081</td>\n",
       "      <td>-0.111081</td>\n",
       "    </tr>\n",
       "    <tr>\n",
       "      <th>express</th>\n",
       "      <td>-0.010763</td>\n",
       "      <td>0.195447</td>\n",
       "      <td>-0.198419</td>\n",
       "      <td>-0.016003</td>\n",
       "      <td>0.810584</td>\n",
       "      <td>1.000000</td>\n",
       "      <td>0.531880</td>\n",
       "      <td>-0.094974</td>\n",
       "      <td>0.002590</td>\n",
       "      <td>0.073378</td>\n",
       "      <td>-0.032182</td>\n",
       "      <td>-0.034606</td>\n",
       "      <td>-0.013458</td>\n",
       "      <td>0.089873</td>\n",
       "      <td>0.117113</td>\n",
       "      <td>-0.117113</td>\n",
       "    </tr>\n",
       "    <tr>\n",
       "      <th>comply</th>\n",
       "      <td>-0.024063</td>\n",
       "      <td>0.276192</td>\n",
       "      <td>-0.141133</td>\n",
       "      <td>0.032665</td>\n",
       "      <td>0.878970</td>\n",
       "      <td>0.531880</td>\n",
       "      <td>1.000000</td>\n",
       "      <td>-0.342055</td>\n",
       "      <td>0.044670</td>\n",
       "      <td>0.047801</td>\n",
       "      <td>-0.083572</td>\n",
       "      <td>-0.083300</td>\n",
       "      <td>-0.043947</td>\n",
       "      <td>0.078911</td>\n",
       "      <td>0.112272</td>\n",
       "      <td>-0.112272</td>\n",
       "    </tr>\n",
       "    <tr>\n",
       "      <th>disrupt</th>\n",
       "      <td>0.087450</td>\n",
       "      <td>0.025579</td>\n",
       "      <td>-0.036276</td>\n",
       "      <td>-0.004370</td>\n",
       "      <td>-0.478303</td>\n",
       "      <td>-0.094974</td>\n",
       "      <td>-0.342055</td>\n",
       "      <td>1.000000</td>\n",
       "      <td>-0.077587</td>\n",
       "      <td>-0.033848</td>\n",
       "      <td>0.026826</td>\n",
       "      <td>0.013433</td>\n",
       "      <td>0.040549</td>\n",
       "      <td>-0.086686</td>\n",
       "      <td>-0.016730</td>\n",
       "      <td>0.016730</td>\n",
       "    </tr>\n",
       "    <tr>\n",
       "      <th>meetStReqs</th>\n",
       "      <td>0.029624</td>\n",
       "      <td>-0.206479</td>\n",
       "      <td>-0.108984</td>\n",
       "      <td>0.113676</td>\n",
       "      <td>0.043760</td>\n",
       "      <td>0.002590</td>\n",
       "      <td>0.044670</td>\n",
       "      <td>-0.077587</td>\n",
       "      <td>1.000000</td>\n",
       "      <td>0.030705</td>\n",
       "      <td>-0.538019</td>\n",
       "      <td>-0.497211</td>\n",
       "      <td>-0.346854</td>\n",
       "      <td>-0.020111</td>\n",
       "      <td>0.019774</td>\n",
       "      <td>-0.019774</td>\n",
       "    </tr>\n",
       "    <tr>\n",
       "      <th>meetPhysReqs</th>\n",
       "      <td>-0.051090</td>\n",
       "      <td>0.078614</td>\n",
       "      <td>0.033321</td>\n",
       "      <td>-0.069275</td>\n",
       "      <td>0.064205</td>\n",
       "      <td>0.073378</td>\n",
       "      <td>0.047801</td>\n",
       "      <td>-0.033848</td>\n",
       "      <td>0.030705</td>\n",
       "      <td>1.000000</td>\n",
       "      <td>0.125045</td>\n",
       "      <td>0.127757</td>\n",
       "      <td>0.057290</td>\n",
       "      <td>0.715247</td>\n",
       "      <td>-0.088349</td>\n",
       "      <td>0.088349</td>\n",
       "    </tr>\n",
       "    <tr>\n",
       "      <th>screenTime</th>\n",
       "      <td>-0.028493</td>\n",
       "      <td>0.133485</td>\n",
       "      <td>0.042901</td>\n",
       "      <td>-0.203934</td>\n",
       "      <td>-0.071117</td>\n",
       "      <td>-0.032182</td>\n",
       "      <td>-0.083572</td>\n",
       "      <td>0.026826</td>\n",
       "      <td>-0.538019</td>\n",
       "      <td>0.125045</td>\n",
       "      <td>1.000000</td>\n",
       "      <td>0.924596</td>\n",
       "      <td>0.649190</td>\n",
       "      <td>0.301808</td>\n",
       "      <td>0.037939</td>\n",
       "      <td>-0.037939</td>\n",
       "    </tr>\n",
       "    <tr>\n",
       "      <th>tvTime</th>\n",
       "      <td>-0.018725</td>\n",
       "      <td>0.107997</td>\n",
       "      <td>0.034862</td>\n",
       "      <td>-0.191506</td>\n",
       "      <td>-0.068313</td>\n",
       "      <td>-0.034606</td>\n",
       "      <td>-0.083300</td>\n",
       "      <td>0.013433</td>\n",
       "      <td>-0.497211</td>\n",
       "      <td>0.127757</td>\n",
       "      <td>0.924596</td>\n",
       "      <td>1.000000</td>\n",
       "      <td>0.310639</td>\n",
       "      <td>0.281133</td>\n",
       "      <td>0.072783</td>\n",
       "      <td>-0.072783</td>\n",
       "    </tr>\n",
       "    <tr>\n",
       "      <th>cpuTime</th>\n",
       "      <td>-0.033882</td>\n",
       "      <td>0.118716</td>\n",
       "      <td>0.036876</td>\n",
       "      <td>-0.126662</td>\n",
       "      <td>-0.043249</td>\n",
       "      <td>-0.013458</td>\n",
       "      <td>-0.043947</td>\n",
       "      <td>0.040549</td>\n",
       "      <td>-0.346854</td>\n",
       "      <td>0.057290</td>\n",
       "      <td>0.649190</td>\n",
       "      <td>0.310639</td>\n",
       "      <td>1.000000</td>\n",
       "      <td>0.192238</td>\n",
       "      <td>-0.050193</td>\n",
       "      <td>0.050193</td>\n",
       "    </tr>\n",
       "    <tr>\n",
       "      <th>outdoorTime</th>\n",
       "      <td>-0.078397</td>\n",
       "      <td>0.038923</td>\n",
       "      <td>0.016628</td>\n",
       "      <td>-0.112188</td>\n",
       "      <td>0.101425</td>\n",
       "      <td>0.089873</td>\n",
       "      <td>0.078911</td>\n",
       "      <td>-0.086686</td>\n",
       "      <td>-0.020111</td>\n",
       "      <td>0.715247</td>\n",
       "      <td>0.301808</td>\n",
       "      <td>0.281133</td>\n",
       "      <td>0.192238</td>\n",
       "      <td>1.000000</td>\n",
       "      <td>-0.071307</td>\n",
       "      <td>0.071307</td>\n",
       "    </tr>\n",
       "    <tr>\n",
       "      <th>gender_Female</th>\n",
       "      <td>0.004026</td>\n",
       "      <td>-0.047227</td>\n",
       "      <td>-0.098547</td>\n",
       "      <td>-0.044888</td>\n",
       "      <td>0.111081</td>\n",
       "      <td>0.117113</td>\n",
       "      <td>0.112272</td>\n",
       "      <td>-0.016730</td>\n",
       "      <td>0.019774</td>\n",
       "      <td>-0.088349</td>\n",
       "      <td>0.037939</td>\n",
       "      <td>0.072783</td>\n",
       "      <td>-0.050193</td>\n",
       "      <td>-0.071307</td>\n",
       "      <td>1.000000</td>\n",
       "      <td>-1.000000</td>\n",
       "    </tr>\n",
       "    <tr>\n",
       "      <th>gender_Male</th>\n",
       "      <td>-0.004026</td>\n",
       "      <td>0.047227</td>\n",
       "      <td>0.098547</td>\n",
       "      <td>0.044888</td>\n",
       "      <td>-0.111081</td>\n",
       "      <td>-0.117113</td>\n",
       "      <td>-0.112272</td>\n",
       "      <td>0.016730</td>\n",
       "      <td>-0.019774</td>\n",
       "      <td>0.088349</td>\n",
       "      <td>-0.037939</td>\n",
       "      <td>-0.072783</td>\n",
       "      <td>0.050193</td>\n",
       "      <td>0.071307</td>\n",
       "      <td>-1.000000</td>\n",
       "      <td>1.000000</td>\n",
       "    </tr>\n",
       "  </tbody>\n",
       "</table>\n",
       "</div>"
      ],
      "text/plain": [
       "                       ID       age  disability  mothersEdu  allSocialSkills  \\\n",
       "ID               1.000000 -0.055861   -0.044302    0.097083        -0.043333   \n",
       "age             -0.055861  1.000000    0.099874   -0.004323         0.233644   \n",
       "disability      -0.044302  0.099874    1.000000   -0.058910        -0.166169   \n",
       "mothersEdu       0.097083 -0.004323   -0.058910    1.000000         0.007182   \n",
       "allSocialSkills -0.043333  0.233644   -0.166169    0.007182         1.000000   \n",
       "express         -0.010763  0.195447   -0.198419   -0.016003         0.810584   \n",
       "comply          -0.024063  0.276192   -0.141133    0.032665         0.878970   \n",
       "disrupt          0.087450  0.025579   -0.036276   -0.004370        -0.478303   \n",
       "meetStReqs       0.029624 -0.206479   -0.108984    0.113676         0.043760   \n",
       "meetPhysReqs    -0.051090  0.078614    0.033321   -0.069275         0.064205   \n",
       "screenTime      -0.028493  0.133485    0.042901   -0.203934        -0.071117   \n",
       "tvTime          -0.018725  0.107997    0.034862   -0.191506        -0.068313   \n",
       "cpuTime         -0.033882  0.118716    0.036876   -0.126662        -0.043249   \n",
       "outdoorTime     -0.078397  0.038923    0.016628   -0.112188         0.101425   \n",
       "gender_Female    0.004026 -0.047227   -0.098547   -0.044888         0.111081   \n",
       "gender_Male     -0.004026  0.047227    0.098547    0.044888        -0.111081   \n",
       "\n",
       "                  express    comply   disrupt  meetStReqs  meetPhysReqs  \\\n",
       "ID              -0.010763 -0.024063  0.087450    0.029624     -0.051090   \n",
       "age              0.195447  0.276192  0.025579   -0.206479      0.078614   \n",
       "disability      -0.198419 -0.141133 -0.036276   -0.108984      0.033321   \n",
       "mothersEdu      -0.016003  0.032665 -0.004370    0.113676     -0.069275   \n",
       "allSocialSkills  0.810584  0.878970 -0.478303    0.043760      0.064205   \n",
       "express          1.000000  0.531880 -0.094974    0.002590      0.073378   \n",
       "comply           0.531880  1.000000 -0.342055    0.044670      0.047801   \n",
       "disrupt         -0.094974 -0.342055  1.000000   -0.077587     -0.033848   \n",
       "meetStReqs       0.002590  0.044670 -0.077587    1.000000      0.030705   \n",
       "meetPhysReqs     0.073378  0.047801 -0.033848    0.030705      1.000000   \n",
       "screenTime      -0.032182 -0.083572  0.026826   -0.538019      0.125045   \n",
       "tvTime          -0.034606 -0.083300  0.013433   -0.497211      0.127757   \n",
       "cpuTime         -0.013458 -0.043947  0.040549   -0.346854      0.057290   \n",
       "outdoorTime      0.089873  0.078911 -0.086686   -0.020111      0.715247   \n",
       "gender_Female    0.117113  0.112272 -0.016730    0.019774     -0.088349   \n",
       "gender_Male     -0.117113 -0.112272  0.016730   -0.019774      0.088349   \n",
       "\n",
       "                 screenTime    tvTime   cpuTime  outdoorTime  gender_Female  \\\n",
       "ID                -0.028493 -0.018725 -0.033882    -0.078397       0.004026   \n",
       "age                0.133485  0.107997  0.118716     0.038923      -0.047227   \n",
       "disability         0.042901  0.034862  0.036876     0.016628      -0.098547   \n",
       "mothersEdu        -0.203934 -0.191506 -0.126662    -0.112188      -0.044888   \n",
       "allSocialSkills   -0.071117 -0.068313 -0.043249     0.101425       0.111081   \n",
       "express           -0.032182 -0.034606 -0.013458     0.089873       0.117113   \n",
       "comply            -0.083572 -0.083300 -0.043947     0.078911       0.112272   \n",
       "disrupt            0.026826  0.013433  0.040549    -0.086686      -0.016730   \n",
       "meetStReqs        -0.538019 -0.497211 -0.346854    -0.020111       0.019774   \n",
       "meetPhysReqs       0.125045  0.127757  0.057290     0.715247      -0.088349   \n",
       "screenTime         1.000000  0.924596  0.649190     0.301808       0.037939   \n",
       "tvTime             0.924596  1.000000  0.310639     0.281133       0.072783   \n",
       "cpuTime            0.649190  0.310639  1.000000     0.192238      -0.050193   \n",
       "outdoorTime        0.301808  0.281133  0.192238     1.000000      -0.071307   \n",
       "gender_Female      0.037939  0.072783 -0.050193    -0.071307       1.000000   \n",
       "gender_Male       -0.037939 -0.072783  0.050193     0.071307      -1.000000   \n",
       "\n",
       "                 gender_Male  \n",
       "ID                 -0.004026  \n",
       "age                 0.047227  \n",
       "disability          0.098547  \n",
       "mothersEdu          0.044888  \n",
       "allSocialSkills    -0.111081  \n",
       "express            -0.117113  \n",
       "comply             -0.112272  \n",
       "disrupt             0.016730  \n",
       "meetStReqs         -0.019774  \n",
       "meetPhysReqs        0.088349  \n",
       "screenTime         -0.037939  \n",
       "tvTime             -0.072783  \n",
       "cpuTime             0.050193  \n",
       "outdoorTime         0.071307  \n",
       "gender_Female      -1.000000  \n",
       "gender_Male         1.000000  "
      ]
     },
     "execution_count": 43,
     "metadata": {},
     "output_type": "execute_result"
    }
   ],
   "source": [
    "df.corr()"
   ]
  },
  {
   "cell_type": "markdown",
   "metadata": {},
   "source": [
    "# PCA"
   ]
  },
  {
   "cell_type": "code",
   "execution_count": 115,
   "metadata": {},
   "outputs": [],
   "source": [
    "#pcacols = df[['meetPhysReqs','tvTime', 'cpuTime', 'outdoorTime', 'age', ]]\n",
    "pcacols = df[['express', 'allSocialSkills', ]]"
   ]
  },
  {
   "cell_type": "code",
   "execution_count": 118,
   "metadata": {},
   "outputs": [
    {
     "data": {
      "text/plain": [
       "<matplotlib.collections.PathCollection at 0x132194f0>"
      ]
     },
     "execution_count": 118,
     "metadata": {},
     "output_type": "execute_result"
    },
    {
     "data": {
      "image/png": "[encoded data removed]",
      "text/plain": [
       "<Figure size 432x288 with 1 Axes>"
      ]
     },
     "metadata": {},
     "output_type": "display_data"
    }
   ],
   "source": [
    "plt.scatter(df.express, df.allSocialSkills)"
   ]
  },
  {
   "cell_type": "code",
   "execution_count": 116,
   "metadata": {},
   "outputs": [
    {
     "name": "stdout",
     "output_type": "stream",
     "text": [
      "Covariance Matrix:\n",
      " [[1.00174216 0.81199625]\n",
      " [0.81199625 1.00174216]]\n"
     ]
    },
    {
     "name": "stderr",
     "output_type": "stream",
     "text": [
      "c:\\users\\greg\\appdata\\local\\programs\\python\\python37-32\\lib\\site-packages\\sklearn\\preprocessing\\data.py:617: DataConversionWarning: Data with input dtype int64 were all converted to float64 by StandardScaler.\n",
      "  return self.partial_fit(X, y)\n",
      "c:\\users\\greg\\appdata\\local\\programs\\python\\python37-32\\lib\\site-packages\\sklearn\\base.py:462: DataConversionWarning: Data with input dtype int64 were all converted to float64 by StandardScaler.\n",
      "  return self.fit(X, **fit_params).transform(X)\n"
     ]
    }
   ],
   "source": [
    "X = StandardScaler().fit_transform(pcacols)\n",
    "Xt = X.T\n",
    "Cx = np.cov(Xt)\n",
    "print('Covariance Matrix:\\n', Cx)\n",
    "eig_val_cov, eig_vec_cov = np.linalg.eig(Cx)"
   ]
  },
  {
   "cell_type": "code",
   "execution_count": 117,
   "metadata": {},
   "outputs": [
    {
     "name": "stdout",
     "output_type": "stream",
     "text": [
      "Eigenvector 1: \n",
      "[[-0.70710678]\n",
      " [ 0.70710678]]\n",
      "Eigenvalue 1: 0.18974590837737204\n",
      "----------------------------------------\n",
      "Eigenvector 2: \n",
      "[[-0.70710678]\n",
      " [-0.70710678]]\n",
      "Eigenvalue 2: 1.8137384121801188\n",
      "----------------------------------------\n",
      "The percentage of total variance in the dataset explained by each component calculated by hand.\n",
      " [0.09470796 0.90529204]\n"
     ]
    }
   ],
   "source": [
    "# Inspecting the eigenvalues and eigenvectors.\n",
    "for i in range(len(eig_val_cov)):\n",
    "    eigvec_cov = eig_vec_cov[:, i].reshape(1, 2).T\n",
    "    print('Eigenvector {}: \\n{}'.format(i + 1, eigvec_cov))\n",
    "    print('Eigenvalue {}: {}'.format(i + 1, eig_val_cov[i]))\n",
    "    print(40 * '-')\n",
    "\n",
    "print(\n",
    "    'The percentage of total variance in the dataset explained by each',\n",
    "    'component calculated by hand.\\n',\n",
    "    eig_val_cov / sum(eig_val_cov)\n",
    ")"
   ]
  },
  {
   "cell_type": "code",
   "execution_count": 119,
   "metadata": {},
   "outputs": [],
   "source": [
    "P = eig_vec_cov[:,0]\n",
    "comp1 = P.T.dot(Xt)\n",
    "P = eig_vec_cov[:,1]\n",
    "comp2 = P.T.dot(Xt)"
   ]
  },
  {
   "cell_type": "code",
   "execution_count": 122,
   "metadata": {},
   "outputs": [
    {
     "data": {
      "image/png": "[encoded data removed]",
      "text/plain": [
       "<Figure size 432x288 with 1 Axes>"
      ]
     },
     "metadata": {},
     "output_type": "display_data"
    }
   ],
   "source": [
    "plt.scatter(comp2, comp1)\n",
    "plt.gca().set_aspect('equal', adjustable='box')"
   ]
  },
  {
   "cell_type": "code",
   "execution_count": null,
   "metadata": {},
   "outputs": [],
   "source": []
  },
  {
   "cell_type": "code",
   "execution_count": null,
   "metadata": {},
   "outputs": [],
   "source": []
  },
  {
   "cell_type": "code",
   "execution_count": null,
   "metadata": {},
   "outputs": [],
   "source": []
  },
  {
   "cell_type": "code",
   "execution_count": null,
   "metadata": {},
   "outputs": [],
   "source": []
  },
  {
   "cell_type": "code",
   "execution_count": 35,
   "metadata": {},
   "outputs": [
    {
     "name": "stderr",
     "output_type": "stream",
     "text": [
      "c:\\users\\greg\\appdata\\local\\programs\\python\\python37-32\\lib\\site-packages\\ipykernel_launcher.py:8: SettingWithCopyWarning: \n",
      "A value is trying to be set on a copy of a slice from a DataFrame.\n",
      "Try using .loc[row_indexer,col_indexer] = value instead\n",
      "\n",
      "See the caveats in the documentation: http://pandas.pydata.org/pandas-docs/stable/indexing.html#indexing-view-versus-copy\n",
      "  \n"
     ]
    },
    {
     "data": {
      "text/html": [
       "<div>\n",
       "<style scoped>\n",
       "    .dataframe tbody tr th:only-of-type {\n",
       "        vertical-align: middle;\n",
       "    }\n",
       "\n",
       "    .dataframe tbody tr th {\n",
       "        vertical-align: top;\n",
       "    }\n",
       "\n",
       "    .dataframe thead th {\n",
       "        text-align: right;\n",
       "    }\n",
       "</style>\n",
       "<table border=\"1\" class=\"dataframe\">\n",
       "  <thead>\n",
       "    <tr style=\"text-align: right;\">\n",
       "      <th></th>\n",
       "      <th>age</th>\n",
       "      <th>disability</th>\n",
       "      <th>meetStReqs</th>\n",
       "      <th>gender_Female</th>\n",
       "      <th>gender_Male</th>\n",
       "      <th>mothersEdu_1</th>\n",
       "      <th>mothersEdu_2</th>\n",
       "      <th>mothersEdu_3</th>\n",
       "      <th>allSocialSkills</th>\n",
       "      <th>pca0</th>\n",
       "      <th>pca1</th>\n",
       "      <th>pca2</th>\n",
       "      <th>pca3</th>\n",
       "      <th>pca4</th>\n",
       "    </tr>\n",
       "  </thead>\n",
       "  <tbody>\n",
       "    <tr>\n",
       "      <th>0</th>\n",
       "      <td>3.030801</td>\n",
       "      <td>0</td>\n",
       "      <td>0</td>\n",
       "      <td>1</td>\n",
       "      <td>0</td>\n",
       "      <td>0</td>\n",
       "      <td>0</td>\n",
       "      <td>1</td>\n",
       "      <td>78</td>\n",
       "      <td>0.745002</td>\n",
       "      <td>-0.198409</td>\n",
       "      <td>-0.884849</td>\n",
       "      <td>1.114220</td>\n",
       "      <td>-0.161160</td>\n",
       "    </tr>\n",
       "    <tr>\n",
       "      <th>1</th>\n",
       "      <td>3.865845</td>\n",
       "      <td>0</td>\n",
       "      <td>1</td>\n",
       "      <td>1</td>\n",
       "      <td>0</td>\n",
       "      <td>0</td>\n",
       "      <td>0</td>\n",
       "      <td>1</td>\n",
       "      <td>82</td>\n",
       "      <td>-0.308857</td>\n",
       "      <td>-0.250152</td>\n",
       "      <td>1.618781</td>\n",
       "      <td>-0.790571</td>\n",
       "      <td>-0.417308</td>\n",
       "    </tr>\n",
       "    <tr>\n",
       "      <th>2</th>\n",
       "      <td>2.130048</td>\n",
       "      <td>0</td>\n",
       "      <td>1</td>\n",
       "      <td>1</td>\n",
       "      <td>0</td>\n",
       "      <td>0</td>\n",
       "      <td>0</td>\n",
       "      <td>1</td>\n",
       "      <td>68</td>\n",
       "      <td>1.637655</td>\n",
       "      <td>0.064456</td>\n",
       "      <td>0.807281</td>\n",
       "      <td>1.303219</td>\n",
       "      <td>0.205702</td>\n",
       "    </tr>\n",
       "    <tr>\n",
       "      <th>3</th>\n",
       "      <td>2.105407</td>\n",
       "      <td>0</td>\n",
       "      <td>1</td>\n",
       "      <td>0</td>\n",
       "      <td>1</td>\n",
       "      <td>0</td>\n",
       "      <td>0</td>\n",
       "      <td>1</td>\n",
       "      <td>63</td>\n",
       "      <td>1.816108</td>\n",
       "      <td>0.017249</td>\n",
       "      <td>0.910025</td>\n",
       "      <td>1.244538</td>\n",
       "      <td>0.016023</td>\n",
       "    </tr>\n",
       "    <tr>\n",
       "      <th>4</th>\n",
       "      <td>2.403833</td>\n",
       "      <td>0</td>\n",
       "      <td>1</td>\n",
       "      <td>1</td>\n",
       "      <td>0</td>\n",
       "      <td>0</td>\n",
       "      <td>0</td>\n",
       "      <td>1</td>\n",
       "      <td>78</td>\n",
       "      <td>1.807361</td>\n",
       "      <td>0.052116</td>\n",
       "      <td>0.835035</td>\n",
       "      <td>0.928900</td>\n",
       "      <td>-0.050442</td>\n",
       "    </tr>\n",
       "  </tbody>\n",
       "</table>\n",
       "</div>"
      ],
      "text/plain": [
       "        age  disability  meetStReqs  gender_Female  gender_Male  mothersEdu_1  \\\n",
       "0  3.030801           0           0              1            0             0   \n",
       "1  3.865845           0           1              1            0             0   \n",
       "2  2.130048           0           1              1            0             0   \n",
       "3  2.105407           0           1              0            1             0   \n",
       "4  2.403833           0           1              1            0             0   \n",
       "\n",
       "   mothersEdu_2  mothersEdu_3  allSocialSkills      pca0      pca1      pca2  \\\n",
       "0             0             1               78  0.745002 -0.198409 -0.884849   \n",
       "1             0             1               82 -0.308857 -0.250152  1.618781   \n",
       "2             0             1               68  1.637655  0.064456  0.807281   \n",
       "3             0             1               63  1.816108  0.017249  0.910025   \n",
       "4             0             1               78  1.807361  0.052116  0.835035   \n",
       "\n",
       "       pca3      pca4  \n",
       "0  1.114220 -0.161160  \n",
       "1 -0.790571 -0.417308  \n",
       "2  1.303219  0.205702  \n",
       "3  1.244538  0.016023  \n",
       "4  0.928900 -0.050442  "
      ]
     },
     "execution_count": 35,
     "metadata": {},
     "output_type": "execute_result"
    }
   ],
   "source": [
    "features = df[['age', 'disability', 'meetStReqs','gender_Female', 'gender_Male', 'mothersEdu_1',\n",
    "               'mothersEdu_2', 'mothersEdu_3','allSocialSkills']]\n",
    "\n",
    "#Also keep all pca components for now\n",
    "for i in range(len(eig_vec_cov)):\n",
    "    P = eig_vec_cov[:,i]\n",
    "    Y = P.T.dot(Xt)\n",
    "    features['pca'+str(i)] = Y\n",
    "features.head()"
   ]
  },
  {
   "cell_type": "code",
   "execution_count": 38,
   "metadata": {},
   "outputs": [
    {
     "name": "stdout",
     "output_type": "stream",
     "text": [
      "Fold Scores:  [ 0.18751535 -0.07366142 -0.08597002  0.1838603   0.06126694  0.1011836\n",
      "  0.02568269 -0.0113406   0.13309312 -0.0632108 ]\n",
      "\n",
      "Average Score:  0.0458419155252137\n"
     ]
    },
    {
     "data": {
      "text/html": [
       "<table class=\"simpletable\">\n",
       "<caption>OLS Regression Results</caption>\n",
       "<tr>\n",
       "  <th>Dep. Variable:</th>     <td>allSocialSkills</td> <th>  R-squared:         </th> <td>   0.134</td>\n",
       "</tr>\n",
       "<tr>\n",
       "  <th>Model:</th>                   <td>OLS</td>       <th>  Adj. R-squared:    </th> <td>   0.119</td>\n",
       "</tr>\n",
       "<tr>\n",
       "  <th>Method:</th>             <td>Least Squares</td>  <th>  F-statistic:       </th> <td>   8.749</td>\n",
       "</tr>\n",
       "<tr>\n",
       "  <th>Date:</th>             <td>Mon, 31 Dec 2018</td> <th>  Prob (F-statistic):</th> <td>2.13e-13</td>\n",
       "</tr>\n",
       "<tr>\n",
       "  <th>Time:</th>                 <td>10:51:11</td>     <th>  Log-Likelihood:    </th> <td> -1843.0</td>\n",
       "</tr>\n",
       "<tr>\n",
       "  <th>No. Observations:</th>      <td>   575</td>      <th>  AIC:               </th> <td>   3708.</td>\n",
       "</tr>\n",
       "<tr>\n",
       "  <th>Df Residuals:</th>          <td>   564</td>      <th>  BIC:               </th> <td>   3756.</td>\n",
       "</tr>\n",
       "<tr>\n",
       "  <th>Df Model:</th>              <td>    10</td>      <th>                     </th>     <td> </td>   \n",
       "</tr>\n",
       "<tr>\n",
       "  <th>Covariance Type:</th>      <td>nonrobust</td>    <th>                     </th>     <td> </td>   \n",
       "</tr>\n",
       "</table>\n",
       "<table class=\"simpletable\">\n",
       "<tr>\n",
       "        <td></td>           <th>coef</th>     <th>std err</th>      <th>t</th>      <th>P>|t|</th>  <th>[0.025</th>    <th>0.975]</th>  \n",
       "</tr>\n",
       "<tr>\n",
       "  <th>Intercept</th>     <td>   62.4301</td> <td>   19.899</td> <td>    3.137</td> <td> 0.002</td> <td>   23.345</td> <td>  101.515</td>\n",
       "</tr>\n",
       "<tr>\n",
       "  <th>age</th>           <td>   -9.9392</td> <td>    9.640</td> <td>   -1.031</td> <td> 0.303</td> <td>  -28.873</td> <td>    8.995</td>\n",
       "</tr>\n",
       "<tr>\n",
       "  <th>disability</th>    <td>   -4.0164</td> <td>    0.906</td> <td>   -4.433</td> <td> 0.000</td> <td>   -5.796</td> <td>   -2.237</td>\n",
       "</tr>\n",
       "<tr>\n",
       "  <th>meetStReqs</th>    <td>    0.0141</td> <td>    0.688</td> <td>    0.021</td> <td> 0.984</td> <td>   -1.337</td> <td>    1.366</td>\n",
       "</tr>\n",
       "<tr>\n",
       "  <th>gender_Female</th> <td>   31.9984</td> <td>    9.985</td> <td>    3.205</td> <td> 0.001</td> <td>   12.387</td> <td>   51.610</td>\n",
       "</tr>\n",
       "<tr>\n",
       "  <th>gender_Male</th>   <td>   30.4316</td> <td>    9.921</td> <td>    3.067</td> <td> 0.002</td> <td>   10.945</td> <td>   49.918</td>\n",
       "</tr>\n",
       "<tr>\n",
       "  <th>mothersEdu_1</th>  <td>   20.6461</td> <td>    6.683</td> <td>    3.089</td> <td> 0.002</td> <td>    7.519</td> <td>   33.774</td>\n",
       "</tr>\n",
       "<tr>\n",
       "  <th>mothersEdu_2</th>  <td>   21.0329</td> <td>    6.695</td> <td>    3.142</td> <td> 0.002</td> <td>    7.883</td> <td>   34.182</td>\n",
       "</tr>\n",
       "<tr>\n",
       "  <th>mothersEdu_3</th>  <td>   20.7511</td> <td>    6.643</td> <td>    3.124</td> <td> 0.002</td> <td>    7.702</td> <td>   33.800</td>\n",
       "</tr>\n",
       "<tr>\n",
       "  <th>pca0</th>          <td>   -1.8962</td> <td>    1.463</td> <td>   -1.296</td> <td> 0.196</td> <td>   -4.770</td> <td>    0.978</td>\n",
       "</tr>\n",
       "<tr>\n",
       "  <th>pca1</th>          <td>    2.0092</td> <td>    0.795</td> <td>    2.526</td> <td> 0.012</td> <td>    0.447</td> <td>    3.571</td>\n",
       "</tr>\n",
       "<tr>\n",
       "  <th>pca2</th>          <td>   -3.6200</td> <td>    3.587</td> <td>   -1.009</td> <td> 0.313</td> <td>  -10.666</td> <td>    3.426</td>\n",
       "</tr>\n",
       "<tr>\n",
       "  <th>pca3</th>          <td>  -10.3078</td> <td>    8.226</td> <td>   -1.253</td> <td> 0.211</td> <td>  -26.465</td> <td>    5.849</td>\n",
       "</tr>\n",
       "</table>\n",
       "<table class=\"simpletable\">\n",
       "<tr>\n",
       "  <th>Omnibus:</th>       <td>44.645</td> <th>  Durbin-Watson:     </th> <td>   2.069</td>\n",
       "</tr>\n",
       "<tr>\n",
       "  <th>Prob(Omnibus):</th> <td> 0.000</td> <th>  Jarque-Bera (JB):  </th> <td>  53.297</td>\n",
       "</tr>\n",
       "<tr>\n",
       "  <th>Skew:</th>          <td>-0.697</td> <th>  Prob(JB):          </th> <td>2.67e-12</td>\n",
       "</tr>\n",
       "<tr>\n",
       "  <th>Kurtosis:</th>      <td> 3.529</td> <th>  Cond. No.          </th> <td>3.02e+16</td>\n",
       "</tr>\n",
       "</table><br/><br/>Warnings:<br/>[1] Standard Errors assume that the covariance matrix of the errors is correctly specified.<br/>[2] The smallest eigenvalue is 1.09e-29. This might indicate that there are<br/>strong multicollinearity problems or that the design matrix is singular."
      ],
      "text/plain": [
       "<class 'statsmodels.iolib.summary.Summary'>\n",
       "\"\"\"\n",
       "                            OLS Regression Results                            \n",
       "==============================================================================\n",
       "Dep. Variable:        allSocialSkills   R-squared:                       0.134\n",
       "Model:                            OLS   Adj. R-squared:                  0.119\n",
       "Method:                 Least Squares   F-statistic:                     8.749\n",
       "Date:                Mon, 31 Dec 2018   Prob (F-statistic):           2.13e-13\n",
       "Time:                        10:51:11   Log-Likelihood:                -1843.0\n",
       "No. Observations:                 575   AIC:                             3708.\n",
       "Df Residuals:                     564   BIC:                             3756.\n",
       "Df Model:                          10                                         \n",
       "Covariance Type:            nonrobust                                         \n",
       "=================================================================================\n",
       "                    coef    std err          t      P>|t|      [0.025      0.975]\n",
       "---------------------------------------------------------------------------------\n",
       "Intercept        62.4301     19.899      3.137      0.002      23.345     101.515\n",
       "age              -9.9392      9.640     -1.031      0.303     -28.873       8.995\n",
       "disability       -4.0164      0.906     -4.433      0.000      -5.796      -2.237\n",
       "meetStReqs        0.0141      0.688      0.021      0.984      -1.337       1.366\n",
       "gender_Female    31.9984      9.985      3.205      0.001      12.387      51.610\n",
       "gender_Male      30.4316      9.921      3.067      0.002      10.945      49.918\n",
       "mothersEdu_1     20.6461      6.683      3.089      0.002       7.519      33.774\n",
       "mothersEdu_2     21.0329      6.695      3.142      0.002       7.883      34.182\n",
       "mothersEdu_3     20.7511      6.643      3.124      0.002       7.702      33.800\n",
       "pca0             -1.8962      1.463     -1.296      0.196      -4.770       0.978\n",
       "pca1              2.0092      0.795      2.526      0.012       0.447       3.571\n",
       "pca2             -3.6200      3.587     -1.009      0.313     -10.666       3.426\n",
       "pca3            -10.3078      8.226     -1.253      0.211     -26.465       5.849\n",
       "==============================================================================\n",
       "Omnibus:                       44.645   Durbin-Watson:                   2.069\n",
       "Prob(Omnibus):                  0.000   Jarque-Bera (JB):               53.297\n",
       "Skew:                          -0.697   Prob(JB):                     2.67e-12\n",
       "Kurtosis:                       3.529   Cond. No.                     3.02e+16\n",
       "==============================================================================\n",
       "\n",
       "Warnings:\n",
       "[1] Standard Errors assume that the covariance matrix of the errors is correctly specified.\n",
       "[2] The smallest eigenvalue is 1.09e-29. This might indicate that there are\n",
       "strong multicollinearity problems or that the design matrix is singular.\n",
       "\"\"\""
      ]
     },
     "execution_count": 38,
     "metadata": {},
     "output_type": "execute_result"
    }
   ],
   "source": [
    "regr = linear_model.LinearRegression()\n",
    "x = features.drop('allSocialSkills', axis=1)\n",
    "y = features['allSocialSkills']\n",
    "\n",
    "regr.fit(x,y)\n",
    "scores = cross_val_score(regr,x,y,cv=10)\n",
    "print(\"Fold Scores: \",scores)\n",
    "print(\"\\nAverage Score: \",np.mean(scores))\n",
    "\n",
    "#statsmodels\n",
    "linear_formula = 'allSocialSkills ~ age+disability+meetStReqs+gender_Female+gender_Male+mothersEdu_1+mothersEdu_2+mothersEdu_3+pca0+pca1+pca2+pca3'\n",
    "\n",
    "# Fit the model to our data using the formula.\n",
    "lm = smf.ols(formula=linear_formula, data=features).fit()\n",
    "lm.summary()"
   ]
  },
  {
   "cell_type": "code",
   "execution_count": 39,
   "metadata": {},
   "outputs": [
    {
     "name": "stdout",
     "output_type": "stream",
     "text": [
      "Object `mca` not found.\n"
     ]
    }
   ],
   "source": []
  },
  {
   "cell_type": "code",
   "execution_count": 45,
   "metadata": {},
   "outputs": [
    {
     "data": {
      "text/html": [
       "<div>\n",
       "<style scoped>\n",
       "    .dataframe tbody tr th:only-of-type {\n",
       "        vertical-align: middle;\n",
       "    }\n",
       "\n",
       "    .dataframe tbody tr th {\n",
       "        vertical-align: top;\n",
       "    }\n",
       "\n",
       "    .dataframe thead th {\n",
       "        text-align: right;\n",
       "    }\n",
       "</style>\n",
       "<table border=\"1\" class=\"dataframe\">\n",
       "  <thead>\n",
       "    <tr style=\"text-align: right;\">\n",
       "      <th></th>\n",
       "      <th>ID</th>\n",
       "      <th>gender</th>\n",
       "      <th>age</th>\n",
       "      <th>disability</th>\n",
       "      <th>mothersEdu</th>\n",
       "      <th>allSocialSkills</th>\n",
       "      <th>express</th>\n",
       "      <th>comply</th>\n",
       "      <th>disrupt</th>\n",
       "      <th>meetStReqs</th>\n",
       "      <th>meetPhysReqs</th>\n",
       "      <th>screenTime</th>\n",
       "      <th>tvTime</th>\n",
       "      <th>cpuTime</th>\n",
       "      <th>outdoorTime</th>\n",
       "    </tr>\n",
       "  </thead>\n",
       "  <tbody>\n",
       "    <tr>\n",
       "      <th>0</th>\n",
       "      <td>30208</td>\n",
       "      <td>Female</td>\n",
       "      <td>3.030801</td>\n",
       "      <td>0</td>\n",
       "      <td>3</td>\n",
       "      <td>78</td>\n",
       "      <td>38</td>\n",
       "      <td>24</td>\n",
       "      <td>12</td>\n",
       "      <td>0</td>\n",
       "      <td>0</td>\n",
       "      <td>3.000000</td>\n",
       "      <td>2.000000</td>\n",
       "      <td>1.0</td>\n",
       "      <td>1.500000</td>\n",
       "    </tr>\n",
       "    <tr>\n",
       "      <th>1</th>\n",
       "      <td>30400</td>\n",
       "      <td>Female</td>\n",
       "      <td>3.865845</td>\n",
       "      <td>0</td>\n",
       "      <td>3</td>\n",
       "      <td>82</td>\n",
       "      <td>39</td>\n",
       "      <td>27</td>\n",
       "      <td>10</td>\n",
       "      <td>1</td>\n",
       "      <td>1</td>\n",
       "      <td>0.000000</td>\n",
       "      <td>0.000000</td>\n",
       "      <td>0.0</td>\n",
       "      <td>4.000000</td>\n",
       "    </tr>\n",
       "    <tr>\n",
       "      <th>2</th>\n",
       "      <td>30863</td>\n",
       "      <td>Female</td>\n",
       "      <td>2.130048</td>\n",
       "      <td>0</td>\n",
       "      <td>3</td>\n",
       "      <td>68</td>\n",
       "      <td>35</td>\n",
       "      <td>18</td>\n",
       "      <td>11</td>\n",
       "      <td>1</td>\n",
       "      <td>0</td>\n",
       "      <td>0.857143</td>\n",
       "      <td>0.857143</td>\n",
       "      <td>0.0</td>\n",
       "      <td>1.714286</td>\n",
       "    </tr>\n",
       "    <tr>\n",
       "      <th>3</th>\n",
       "      <td>30530</td>\n",
       "      <td>Male</td>\n",
       "      <td>2.105407</td>\n",
       "      <td>0</td>\n",
       "      <td>3</td>\n",
       "      <td>63</td>\n",
       "      <td>29</td>\n",
       "      <td>20</td>\n",
       "      <td>12</td>\n",
       "      <td>1</td>\n",
       "      <td>0</td>\n",
       "      <td>0.500000</td>\n",
       "      <td>0.500000</td>\n",
       "      <td>0.0</td>\n",
       "      <td>1.500000</td>\n",
       "    </tr>\n",
       "    <tr>\n",
       "      <th>4</th>\n",
       "      <td>300057</td>\n",
       "      <td>Female</td>\n",
       "      <td>2.403833</td>\n",
       "      <td>0</td>\n",
       "      <td>3</td>\n",
       "      <td>78</td>\n",
       "      <td>38</td>\n",
       "      <td>25</td>\n",
       "      <td>11</td>\n",
       "      <td>1</td>\n",
       "      <td>0</td>\n",
       "      <td>0.357143</td>\n",
       "      <td>0.357143</td>\n",
       "      <td>0.0</td>\n",
       "      <td>1.500000</td>\n",
       "    </tr>\n",
       "  </tbody>\n",
       "</table>\n",
       "</div>"
      ],
      "text/plain": [
       "       ID  gender       age  disability  mothersEdu  allSocialSkills  express  \\\n",
       "0   30208  Female  3.030801           0           3               78       38   \n",
       "1   30400  Female  3.865845           0           3               82       39   \n",
       "2   30863  Female  2.130048           0           3               68       35   \n",
       "3   30530    Male  2.105407           0           3               63       29   \n",
       "4  300057  Female  2.403833           0           3               78       38   \n",
       "\n",
       "   comply  disrupt  meetStReqs  meetPhysReqs  screenTime    tvTime  cpuTime  \\\n",
       "0      24       12           0             0    3.000000  2.000000      1.0   \n",
       "1      27       10           1             1    0.000000  0.000000      0.0   \n",
       "2      18       11           1             0    0.857143  0.857143      0.0   \n",
       "3      20       12           1             0    0.500000  0.500000      0.0   \n",
       "4      25       11           1             0    0.357143  0.357143      0.0   \n",
       "\n",
       "   outdoorTime  \n",
       "0     1.500000  \n",
       "1     4.000000  \n",
       "2     1.714286  \n",
       "3     1.500000  \n",
       "4     1.500000  "
      ]
     },
     "execution_count": 45,
     "metadata": {},
     "output_type": "execute_result"
    }
   ],
   "source": [
    "df.head()"
   ]
  },
  {
   "cell_type": "code",
   "execution_count": 50,
   "metadata": {},
   "outputs": [
    {
     "name": "stdout",
     "output_type": "stream",
     "text": [
      "allSocialSkills ~ express+comply 0.9367238607113808\n",
      "allSocialSkills ~ express+disrupt 0.8195695059274983\n",
      "allSocialSkills ~ comply+disrupt 0.8083286253066162\n"
     ]
    },
    {
     "data": {
      "text/html": [
       "<table class=\"simpletable\">\n",
       "<caption>OLS Regression Results</caption>\n",
       "<tr>\n",
       "  <th>Dep. Variable:</th>     <td>allSocialSkills</td> <th>  R-squared:         </th> <td>   0.992</td> \n",
       "</tr>\n",
       "<tr>\n",
       "  <th>Model:</th>                   <td>OLS</td>       <th>  Adj. R-squared:    </th> <td>   0.992</td> \n",
       "</tr>\n",
       "<tr>\n",
       "  <th>Method:</th>             <td>Least Squares</td>  <th>  F-statistic:       </th> <td>2.308e+04</td>\n",
       "</tr>\n",
       "<tr>\n",
       "  <th>Date:</th>             <td>Mon, 31 Dec 2018</td> <th>  Prob (F-statistic):</th>  <td>  0.00</td>  \n",
       "</tr>\n",
       "<tr>\n",
       "  <th>Time:</th>                 <td>16:27:46</td>     <th>  Log-Likelihood:    </th> <td> -502.61</td> \n",
       "</tr>\n",
       "<tr>\n",
       "  <th>No. Observations:</th>      <td>   575</td>      <th>  AIC:               </th> <td>   1013.</td> \n",
       "</tr>\n",
       "<tr>\n",
       "  <th>Df Residuals:</th>          <td>   571</td>      <th>  BIC:               </th> <td>   1031.</td> \n",
       "</tr>\n",
       "<tr>\n",
       "  <th>Df Model:</th>              <td>     3</td>      <th>                     </th>     <td> </td>    \n",
       "</tr>\n",
       "<tr>\n",
       "  <th>Covariance Type:</th>      <td>nonrobust</td>    <th>                     </th>     <td> </td>    \n",
       "</tr>\n",
       "</table>\n",
       "<table class=\"simpletable\">\n",
       "<tr>\n",
       "      <td></td>         <th>coef</th>     <th>std err</th>      <th>t</th>      <th>P>|t|</th>  <th>[0.025</th>    <th>0.975]</th>  \n",
       "</tr>\n",
       "<tr>\n",
       "  <th>Intercept</th> <td>   24.8906</td> <td>    0.328</td> <td>   75.824</td> <td> 0.000</td> <td>   24.246</td> <td>   25.535</td>\n",
       "</tr>\n",
       "<tr>\n",
       "  <th>express</th>   <td>    1.0021</td> <td>    0.009</td> <td>  113.189</td> <td> 0.000</td> <td>    0.985</td> <td>    1.019</td>\n",
       "</tr>\n",
       "<tr>\n",
       "  <th>comply</th>    <td>    0.9953</td> <td>    0.009</td> <td>  109.667</td> <td> 0.000</td> <td>    0.977</td> <td>    1.013</td>\n",
       "</tr>\n",
       "<tr>\n",
       "  <th>disrupt</th>   <td>   -0.8680</td> <td>    0.014</td> <td>  -62.024</td> <td> 0.000</td> <td>   -0.895</td> <td>   -0.840</td>\n",
       "</tr>\n",
       "</table>\n",
       "<table class=\"simpletable\">\n",
       "<tr>\n",
       "  <th>Omnibus:</th>       <td>307.689</td> <th>  Durbin-Watson:     </th> <td>   1.880</td>\n",
       "</tr>\n",
       "<tr>\n",
       "  <th>Prob(Omnibus):</th> <td> 0.000</td>  <th>  Jarque-Bera (JB):  </th> <td>1700.859</td>\n",
       "</tr>\n",
       "<tr>\n",
       "  <th>Skew:</th>          <td> 2.425</td>  <th>  Prob(JB):          </th> <td>    0.00</td>\n",
       "</tr>\n",
       "<tr>\n",
       "  <th>Kurtosis:</th>      <td> 9.890</td>  <th>  Cond. No.          </th> <td>    606.</td>\n",
       "</tr>\n",
       "</table><br/><br/>Warnings:<br/>[1] Standard Errors assume that the covariance matrix of the errors is correctly specified."
      ],
      "text/plain": [
       "<class 'statsmodels.iolib.summary.Summary'>\n",
       "\"\"\"\n",
       "                            OLS Regression Results                            \n",
       "==============================================================================\n",
       "Dep. Variable:        allSocialSkills   R-squared:                       0.992\n",
       "Model:                            OLS   Adj. R-squared:                  0.992\n",
       "Method:                 Least Squares   F-statistic:                 2.308e+04\n",
       "Date:                Mon, 31 Dec 2018   Prob (F-statistic):               0.00\n",
       "Time:                        16:27:46   Log-Likelihood:                -502.61\n",
       "No. Observations:                 575   AIC:                             1013.\n",
       "Df Residuals:                     571   BIC:                             1031.\n",
       "Df Model:                           3                                         \n",
       "Covariance Type:            nonrobust                                         \n",
       "==============================================================================\n",
       "                 coef    std err          t      P>|t|      [0.025      0.975]\n",
       "------------------------------------------------------------------------------\n",
       "Intercept     24.8906      0.328     75.824      0.000      24.246      25.535\n",
       "express        1.0021      0.009    113.189      0.000       0.985       1.019\n",
       "comply         0.9953      0.009    109.667      0.000       0.977       1.013\n",
       "disrupt       -0.8680      0.014    -62.024      0.000      -0.895      -0.840\n",
       "==============================================================================\n",
       "Omnibus:                      307.689   Durbin-Watson:                   1.880\n",
       "Prob(Omnibus):                  0.000   Jarque-Bera (JB):             1700.859\n",
       "Skew:                           2.425   Prob(JB):                         0.00\n",
       "Kurtosis:                       9.890   Cond. No.                         606.\n",
       "==============================================================================\n",
       "\n",
       "Warnings:\n",
       "[1] Standard Errors assume that the covariance matrix of the errors is correctly specified.\n",
       "\"\"\""
      ]
     },
     "execution_count": 50,
     "metadata": {},
     "output_type": "execute_result"
    }
   ],
   "source": [
    "#statsmodels\n",
    "\n",
    "\n",
    "linear_formula = 'allSocialSkills ~ express+comply'\n",
    "\n",
    "# Fit the model to our data using the formula.\n",
    "lm = smf.ols(formula=linear_formula, data=df).fit()\n",
    "print(linear_formula,lm.rsquared)\n",
    "\n",
    "linear_formula = 'allSocialSkills ~ express+disrupt'\n",
    "\n",
    "# Fit the model to our data using the formula.\n",
    "lm = smf.ols(formula=linear_formula, data=df).fit()\n",
    "print(linear_formula,lm.rsquared)\n",
    "\n",
    "linear_formula = 'allSocialSkills ~ comply+disrupt'\n",
    "\n",
    "# Fit the model to our data using the formula.\n",
    "lm = smf.ols(formula=linear_formula, data=df).fit()\n",
    "print(linear_formula,lm.rsquared)\n",
    "\n",
    "linear_formula = 'allSocialSkills ~ express+comply+disrupt'\n",
    "\n",
    "# Fit the model to our data using the formula.\n",
    "lm = smf.ols(formula=linear_formula, data=df).fit()\n",
    "lm.summary()"
   ]
  },
  {
   "cell_type": "code",
   "execution_count": 51,
   "metadata": {},
   "outputs": [
    {
     "data": {
      "text/html": [
       "<div>\n",
       "<style scoped>\n",
       "    .dataframe tbody tr th:only-of-type {\n",
       "        vertical-align: middle;\n",
       "    }\n",
       "\n",
       "    .dataframe tbody tr th {\n",
       "        vertical-align: top;\n",
       "    }\n",
       "\n",
       "    .dataframe thead th {\n",
       "        text-align: right;\n",
       "    }\n",
       "</style>\n",
       "<table border=\"1\" class=\"dataframe\">\n",
       "  <thead>\n",
       "    <tr style=\"text-align: right;\">\n",
       "      <th></th>\n",
       "      <th>express</th>\n",
       "      <th>comply</th>\n",
       "      <th>disrupt</th>\n",
       "      <th>allSocialSkills</th>\n",
       "    </tr>\n",
       "  </thead>\n",
       "  <tbody>\n",
       "    <tr>\n",
       "      <th>express</th>\n",
       "      <td>1.000000</td>\n",
       "      <td>0.531880</td>\n",
       "      <td>-0.094974</td>\n",
       "      <td>0.810584</td>\n",
       "    </tr>\n",
       "    <tr>\n",
       "      <th>comply</th>\n",
       "      <td>0.531880</td>\n",
       "      <td>1.000000</td>\n",
       "      <td>-0.342055</td>\n",
       "      <td>0.878970</td>\n",
       "    </tr>\n",
       "    <tr>\n",
       "      <th>disrupt</th>\n",
       "      <td>-0.094974</td>\n",
       "      <td>-0.342055</td>\n",
       "      <td>1.000000</td>\n",
       "      <td>-0.478303</td>\n",
       "    </tr>\n",
       "    <tr>\n",
       "      <th>allSocialSkills</th>\n",
       "      <td>0.810584</td>\n",
       "      <td>0.878970</td>\n",
       "      <td>-0.478303</td>\n",
       "      <td>1.000000</td>\n",
       "    </tr>\n",
       "  </tbody>\n",
       "</table>\n",
       "</div>"
      ],
      "text/plain": [
       "                  express    comply   disrupt  allSocialSkills\n",
       "express          1.000000  0.531880 -0.094974         0.810584\n",
       "comply           0.531880  1.000000 -0.342055         0.878970\n",
       "disrupt         -0.094974 -0.342055  1.000000        -0.478303\n",
       "allSocialSkills  0.810584  0.878970 -0.478303         1.000000"
      ]
     },
     "execution_count": 51,
     "metadata": {},
     "output_type": "execute_result"
    }
   ],
   "source": [
    "df[['express', 'comply', 'disrupt', 'allSocialSkills']].corr()"
   ]
  },
  {
   "cell_type": "code",
   "execution_count": 52,
   "metadata": {},
   "outputs": [
    {
     "data": {
      "text/plain": [
       "Index(['ID', 'gender', 'age', 'disability', 'mothersEdu', 'allSocialSkills',\n",
       "       'express', 'comply', 'disrupt', 'meetStReqs', 'meetPhysReqs',\n",
       "       'screenTime', 'tvTime', 'cpuTime', 'outdoorTime'],\n",
       "      dtype='object')"
      ]
     },
     "execution_count": 52,
     "metadata": {},
     "output_type": "execute_result"
    }
   ],
   "source": [
    "df.columns"
   ]
  },
  {
   "cell_type": "code",
   "execution_count": 54,
   "metadata": {},
   "outputs": [],
   "source": [
    "from sklearn.linear_model import Lasso"
   ]
  },
  {
   "cell_type": "code",
   "execution_count": 62,
   "metadata": {},
   "outputs": [
    {
     "data": {
      "text/plain": [
       "Lasso(alpha=1, copy_X=True, fit_intercept=True, max_iter=1000,\n",
       "   normalize=False, positive=False, precompute=False, random_state=None,\n",
       "   selection='cyclic', tol=0.0001, warm_start=False)"
      ]
     },
     "execution_count": 62,
     "metadata": {},
     "output_type": "execute_result"
    }
   ],
   "source": [
    "lass = Lasso(alpha=1)\n",
    "#x = df[['express', 'comply', 'disrupt', 'tvTime', 'outdoorTime', 'age','screenTime','cpuTime', 'disability']]\n",
    "x = df[['tvTime', 'outdoorTime', 'age','screenTime','cpuTime', 'disability', 'mothersEdu']]\n",
    "y = df.allSocialSkills\n",
    "\n",
    "\n",
    "lass.fit(x,y)"
   ]
  },
  {
   "cell_type": "code",
   "execution_count": 63,
   "metadata": {},
   "outputs": [
    {
     "data": {
      "text/plain": [
       "array([-0.        ,  0.06020972,  0.4614311 , -0.        , -0.        ,\n",
       "       -0.        ,  0.        ])"
      ]
     },
     "execution_count": 63,
     "metadata": {},
     "output_type": "execute_result"
    }
   ],
   "source": [
    "lass.coef_"
   ]
  },
  {
   "cell_type": "code",
   "execution_count": 65,
   "metadata": {},
   "outputs": [
    {
     "data": {
      "text/plain": [
       "array([0.01061746, 0.02751492])"
      ]
     },
     "execution_count": 65,
     "metadata": {},
     "output_type": "execute_result"
    }
   ],
   "source": [
    "cross_val_score(lass,x,y,cv=2)"
   ]
  },
  {
   "cell_type": "code",
   "execution_count": 90,
   "metadata": {},
   "outputs": [
    {
     "data": {
      "image/png": "[encoded data removed]",
      "text/plain": [
       "<Figure size 432x288 with 1 Axes>"
      ]
     },
     "metadata": {},
     "output_type": "display_data"
    }
   ],
   "source": [
    "plt.hist((df.allSocialSkills / df.allSocialSkills.mean())**(1/2), color='blue', bins=20)\n",
    "plt.hist(df.allSocialSkills / df.allSocialSkills.mean(), alpha=.5, color='r', bins=20)\n",
    "plt.show()"
   ]
  },
  {
   "cell_type": "code",
   "execution_count": 107,
   "metadata": {},
   "outputs": [],
   "source": [
    "df['newy'] = df.allSocialSkills / df.allSocialSkills.mean()**(1/3)"
   ]
  },
  {
   "cell_type": "code",
   "execution_count": 112,
   "metadata": {},
   "outputs": [
    {
     "data": {
      "text/html": [
       "<table class=\"simpletable\">\n",
       "<caption>OLS Regression Results</caption>\n",
       "<tr>\n",
       "  <th>Dep. Variable:</th>          <td>newy</td>       <th>  R-squared:         </th> <td>   0.813</td> \n",
       "</tr>\n",
       "<tr>\n",
       "  <th>Model:</th>                   <td>OLS</td>       <th>  Adj. R-squared:    </th> <td>   0.811</td> \n",
       "</tr>\n",
       "<tr>\n",
       "  <th>Method:</th>             <td>Least Squares</td>  <th>  F-statistic:       </th> <td>   352.3</td> \n",
       "</tr>\n",
       "<tr>\n",
       "  <th>Date:</th>             <td>Mon, 31 Dec 2018</td> <th>  Prob (F-statistic):</th> <td>8.06e-202</td>\n",
       "</tr>\n",
       "<tr>\n",
       "  <th>Time:</th>                 <td>17:15:04</td>     <th>  Log-Likelihood:    </th> <td> -571.02</td> \n",
       "</tr>\n",
       "<tr>\n",
       "  <th>No. Observations:</th>      <td>   575</td>      <th>  AIC:               </th> <td>   1158.</td> \n",
       "</tr>\n",
       "<tr>\n",
       "  <th>Df Residuals:</th>          <td>   567</td>      <th>  BIC:               </th> <td>   1193.</td> \n",
       "</tr>\n",
       "<tr>\n",
       "  <th>Df Model:</th>              <td>     7</td>      <th>                     </th>     <td> </td>    \n",
       "</tr>\n",
       "<tr>\n",
       "  <th>Covariance Type:</th>      <td>nonrobust</td>    <th>                     </th>     <td> </td>    \n",
       "</tr>\n",
       "</table>\n",
       "<table class=\"simpletable\">\n",
       "<tr>\n",
       "       <td></td>          <th>coef</th>     <th>std err</th>      <th>t</th>      <th>P>|t|</th>  <th>[0.025</th>    <th>0.975]</th>  \n",
       "</tr>\n",
       "<tr>\n",
       "  <th>Intercept</th>   <td>   10.6925</td> <td>    0.324</td> <td>   32.965</td> <td> 0.000</td> <td>   10.055</td> <td>   11.330</td>\n",
       "</tr>\n",
       "<tr>\n",
       "  <th>age</th>         <td>    0.0450</td> <td>    0.031</td> <td>    1.438</td> <td> 0.151</td> <td>   -0.016</td> <td>    0.106</td>\n",
       "</tr>\n",
       "<tr>\n",
       "  <th>disability</th>  <td>   -0.3510</td> <td>    0.100</td> <td>   -3.508</td> <td> 0.000</td> <td>   -0.548</td> <td>   -0.154</td>\n",
       "</tr>\n",
       "<tr>\n",
       "  <th>tvTime</th>      <td>   -0.0069</td> <td>    0.022</td> <td>   -0.307</td> <td> 0.759</td> <td>   -0.051</td> <td>    0.037</td>\n",
       "</tr>\n",
       "<tr>\n",
       "  <th>outdoorTime</th> <td>    0.0184</td> <td>    0.015</td> <td>    1.223</td> <td> 0.222</td> <td>   -0.011</td> <td>    0.048</td>\n",
       "</tr>\n",
       "<tr>\n",
       "  <th>cpuTime</th>     <td>   -0.0083</td> <td>    0.044</td> <td>   -0.190</td> <td> 0.849</td> <td>   -0.095</td> <td>    0.078</td>\n",
       "</tr>\n",
       "<tr>\n",
       "  <th>disrupt</th>     <td>   -0.1706</td> <td>    0.016</td> <td>  -10.660</td> <td> 0.000</td> <td>   -0.202</td> <td>   -0.139</td>\n",
       "</tr>\n",
       "<tr>\n",
       "  <th>comply</th>      <td>    0.3536</td> <td>    0.009</td> <td>   37.582</td> <td> 0.000</td> <td>    0.335</td> <td>    0.372</td>\n",
       "</tr>\n",
       "</table>\n",
       "<table class=\"simpletable\">\n",
       "<tr>\n",
       "  <th>Omnibus:</th>       <td>56.139</td> <th>  Durbin-Watson:     </th> <td>   1.960</td>\n",
       "</tr>\n",
       "<tr>\n",
       "  <th>Prob(Omnibus):</th> <td> 0.000</td> <th>  Jarque-Bera (JB):  </th> <td>  72.492</td>\n",
       "</tr>\n",
       "<tr>\n",
       "  <th>Skew:</th>          <td>-0.769</td> <th>  Prob(JB):          </th> <td>1.81e-16</td>\n",
       "</tr>\n",
       "<tr>\n",
       "  <th>Kurtosis:</th>      <td> 3.812</td> <th>  Cond. No.          </th> <td>    330.</td>\n",
       "</tr>\n",
       "</table><br/><br/>Warnings:<br/>[1] Standard Errors assume that the covariance matrix of the errors is correctly specified."
      ],
      "text/plain": [
       "<class 'statsmodels.iolib.summary.Summary'>\n",
       "\"\"\"\n",
       "                            OLS Regression Results                            \n",
       "==============================================================================\n",
       "Dep. Variable:                   newy   R-squared:                       0.813\n",
       "Model:                            OLS   Adj. R-squared:                  0.811\n",
       "Method:                 Least Squares   F-statistic:                     352.3\n",
       "Date:                Mon, 31 Dec 2018   Prob (F-statistic):          8.06e-202\n",
       "Time:                        17:15:04   Log-Likelihood:                -571.02\n",
       "No. Observations:                 575   AIC:                             1158.\n",
       "Df Residuals:                     567   BIC:                             1193.\n",
       "Df Model:                           7                                         \n",
       "Covariance Type:            nonrobust                                         \n",
       "===============================================================================\n",
       "                  coef    std err          t      P>|t|      [0.025      0.975]\n",
       "-------------------------------------------------------------------------------\n",
       "Intercept      10.6925      0.324     32.965      0.000      10.055      11.330\n",
       "age             0.0450      0.031      1.438      0.151      -0.016       0.106\n",
       "disability     -0.3510      0.100     -3.508      0.000      -0.548      -0.154\n",
       "tvTime         -0.0069      0.022     -0.307      0.759      -0.051       0.037\n",
       "outdoorTime     0.0184      0.015      1.223      0.222      -0.011       0.048\n",
       "cpuTime        -0.0083      0.044     -0.190      0.849      -0.095       0.078\n",
       "disrupt        -0.1706      0.016    -10.660      0.000      -0.202      -0.139\n",
       "comply          0.3536      0.009     37.582      0.000       0.335       0.372\n",
       "==============================================================================\n",
       "Omnibus:                       56.139   Durbin-Watson:                   1.960\n",
       "Prob(Omnibus):                  0.000   Jarque-Bera (JB):               72.492\n",
       "Skew:                          -0.769   Prob(JB):                     1.81e-16\n",
       "Kurtosis:                       3.812   Cond. No.                         330.\n",
       "==============================================================================\n",
       "\n",
       "Warnings:\n",
       "[1] Standard Errors assume that the covariance matrix of the errors is correctly specified.\n",
       "\"\"\""
      ]
     },
     "execution_count": 112,
     "metadata": {},
     "output_type": "execute_result"
    }
   ],
   "source": [
    "\n",
    "#statsmodels\n",
    "linear_formula = 'newy ~ age+disability+tvTime+outdoorTime+cpuTime+disrupt+comply'\n",
    "\n",
    "# Fit the model to our data using the formula.\n",
    "lm = smf.ols(formula=linear_formula, data=df).fit()\n",
    "lm.summary()"
   ]
  },
  {
   "cell_type": "code",
   "execution_count": 114,
   "metadata": {},
   "outputs": [
    {
     "data": {
      "image/png": "[encoded data removed]",
      "text/plain": [
       "<Figure size 864x360 with 1 Axes>"
      ]
     },
     "metadata": {},
     "output_type": "display_data"
    }
   ],
   "source": [
    "plt.figure(figsize=[12,5])\n",
    "sns.boxplot(x='allSocialSkills', y='mothersEdu', data=df, orient='h')\n",
    "plt.show()"
   ]
  },
  {
   "cell_type": "code",
   "execution_count": 119,
   "metadata": {},
   "outputs": [
    {
     "data": {
      "text/html": [
       "<div>\n",
       "<style scoped>\n",
       "    .dataframe tbody tr th:only-of-type {\n",
       "        vertical-align: middle;\n",
       "    }\n",
       "\n",
       "    .dataframe tbody tr th {\n",
       "        vertical-align: top;\n",
       "    }\n",
       "\n",
       "    .dataframe thead th {\n",
       "        text-align: right;\n",
       "    }\n",
       "</style>\n",
       "<table border=\"1\" class=\"dataframe\">\n",
       "  <thead>\n",
       "    <tr style=\"text-align: right;\">\n",
       "      <th></th>\n",
       "      <th>ID</th>\n",
       "      <th>gender</th>\n",
       "      <th>age</th>\n",
       "      <th>disability</th>\n",
       "      <th>allSocialSkills</th>\n",
       "      <th>express</th>\n",
       "      <th>comply</th>\n",
       "      <th>disrupt</th>\n",
       "      <th>meetStReqs</th>\n",
       "      <th>meetPhysReqs</th>\n",
       "      <th>screenTime</th>\n",
       "      <th>tvTime</th>\n",
       "      <th>cpuTime</th>\n",
       "      <th>outdoorTime</th>\n",
       "      <th>newy</th>\n",
       "    </tr>\n",
       "    <tr>\n",
       "      <th>mothersEdu</th>\n",
       "      <th></th>\n",
       "      <th></th>\n",
       "      <th></th>\n",
       "      <th></th>\n",
       "      <th></th>\n",
       "      <th></th>\n",
       "      <th></th>\n",
       "      <th></th>\n",
       "      <th></th>\n",
       "      <th></th>\n",
       "      <th></th>\n",
       "      <th></th>\n",
       "      <th></th>\n",
       "      <th></th>\n",
       "      <th></th>\n",
       "    </tr>\n",
       "  </thead>\n",
       "  <tbody>\n",
       "    <tr>\n",
       "      <th>1</th>\n",
       "      <td>18</td>\n",
       "      <td>18</td>\n",
       "      <td>18</td>\n",
       "      <td>18</td>\n",
       "      <td>18</td>\n",
       "      <td>18</td>\n",
       "      <td>18</td>\n",
       "      <td>18</td>\n",
       "      <td>18</td>\n",
       "      <td>18</td>\n",
       "      <td>18</td>\n",
       "      <td>18</td>\n",
       "      <td>18</td>\n",
       "      <td>18</td>\n",
       "      <td>18</td>\n",
       "    </tr>\n",
       "    <tr>\n",
       "      <th>2</th>\n",
       "      <td>126</td>\n",
       "      <td>126</td>\n",
       "      <td>126</td>\n",
       "      <td>126</td>\n",
       "      <td>126</td>\n",
       "      <td>126</td>\n",
       "      <td>126</td>\n",
       "      <td>126</td>\n",
       "      <td>126</td>\n",
       "      <td>126</td>\n",
       "      <td>126</td>\n",
       "      <td>126</td>\n",
       "      <td>126</td>\n",
       "      <td>126</td>\n",
       "      <td>126</td>\n",
       "    </tr>\n",
       "    <tr>\n",
       "      <th>3</th>\n",
       "      <td>431</td>\n",
       "      <td>431</td>\n",
       "      <td>431</td>\n",
       "      <td>431</td>\n",
       "      <td>431</td>\n",
       "      <td>431</td>\n",
       "      <td>431</td>\n",
       "      <td>431</td>\n",
       "      <td>431</td>\n",
       "      <td>431</td>\n",
       "      <td>431</td>\n",
       "      <td>431</td>\n",
       "      <td>431</td>\n",
       "      <td>431</td>\n",
       "      <td>431</td>\n",
       "    </tr>\n",
       "  </tbody>\n",
       "</table>\n",
       "</div>"
      ],
      "text/plain": [
       "             ID  gender  age  disability  allSocialSkills  express  comply  \\\n",
       "mothersEdu                                                                   \n",
       "1            18      18   18          18               18       18      18   \n",
       "2           126     126  126         126              126      126     126   \n",
       "3           431     431  431         431              431      431     431   \n",
       "\n",
       "            disrupt  meetStReqs  meetPhysReqs  screenTime  tvTime  cpuTime  \\\n",
       "mothersEdu                                                                   \n",
       "1                18          18            18          18      18       18   \n",
       "2               126         126           126         126     126      126   \n",
       "3               431         431           431         431     431      431   \n",
       "\n",
       "            outdoorTime  newy  \n",
       "mothersEdu                     \n",
       "1                    18    18  \n",
       "2                   126   126  \n",
       "3                   431   431  "
      ]
     },
     "execution_count": 119,
     "metadata": {},
     "output_type": "execute_result"
    }
   ],
   "source": [
    "df.groupby('mothersEdu')['ID'].agg('count')"
   ]
  },
  {
   "cell_type": "code",
   "execution_count": 122,
   "metadata": {},
   "outputs": [
    {
     "data": {
      "image/png": "[encoded data removed]",
      "text/plain": [
       "<Figure size 432x288 with 1 Axes>"
      ]
     },
     "metadata": {},
     "output_type": "display_data"
    }
   ],
   "source": [
    "plt.hist(df[df.mothersEdu==3]['allSocialSkills'], alpha=.5, density=True, bins=20)\n",
    "plt.hist(df[df.mothersEdu==2]['allSocialSkills'], alpha=.5, color='r', density=True, bins=20)\n",
    "plt.show()"
   ]
  },
  {
   "cell_type": "code",
   "execution_count": 124,
   "metadata": {},
   "outputs": [
    {
     "data": {
      "image/png": "[encoded data removed]",
      "text/plain": [
       "<Figure size 432x288 with 1 Axes>"
      ]
     },
     "metadata": {},
     "output_type": "display_data"
    }
   ],
   "source": [
    "#Logistic Regression on disruptive (remedial program y/n?)\n",
    "#ROC\n",
    "plt.hist(df.disrupt, bins=25)\n",
    "plt.show()"
   ]
  },
  {
   "cell_type": "code",
   "execution_count": 125,
   "metadata": {},
   "outputs": [
    {
     "data": {
      "text/html": [
       "<div>\n",
       "<style scoped>\n",
       "    .dataframe tbody tr th:only-of-type {\n",
       "        vertical-align: middle;\n",
       "    }\n",
       "\n",
       "    .dataframe tbody tr th {\n",
       "        vertical-align: top;\n",
       "    }\n",
       "\n",
       "    .dataframe thead th {\n",
       "        text-align: right;\n",
       "    }\n",
       "</style>\n",
       "<table border=\"1\" class=\"dataframe\">\n",
       "  <thead>\n",
       "    <tr style=\"text-align: right;\">\n",
       "      <th></th>\n",
       "      <th>ID</th>\n",
       "      <th>gender</th>\n",
       "      <th>age</th>\n",
       "      <th>disability</th>\n",
       "      <th>mothersEdu</th>\n",
       "      <th>allSocialSkills</th>\n",
       "      <th>express</th>\n",
       "      <th>comply</th>\n",
       "      <th>disrupt</th>\n",
       "      <th>meetStReqs</th>\n",
       "      <th>meetPhysReqs</th>\n",
       "      <th>screenTime</th>\n",
       "      <th>tvTime</th>\n",
       "      <th>cpuTime</th>\n",
       "      <th>outdoorTime</th>\n",
       "      <th>newy</th>\n",
       "    </tr>\n",
       "  </thead>\n",
       "  <tbody>\n",
       "    <tr>\n",
       "      <th>0</th>\n",
       "      <td>30208</td>\n",
       "      <td>Female</td>\n",
       "      <td>3.030801</td>\n",
       "      <td>0</td>\n",
       "      <td>3</td>\n",
       "      <td>78</td>\n",
       "      <td>38</td>\n",
       "      <td>24</td>\n",
       "      <td>12</td>\n",
       "      <td>0</td>\n",
       "      <td>0</td>\n",
       "      <td>3.0</td>\n",
       "      <td>2.0</td>\n",
       "      <td>1.0</td>\n",
       "      <td>1.5</td>\n",
       "      <td>18.376317</td>\n",
       "    </tr>\n",
       "  </tbody>\n",
       "</table>\n",
       "</div>"
      ],
      "text/plain": [
       "      ID  gender       age  disability  mothersEdu  allSocialSkills  express  \\\n",
       "0  30208  Female  3.030801           0           3               78       38   \n",
       "\n",
       "   comply  disrupt  meetStReqs  meetPhysReqs  screenTime  tvTime  cpuTime  \\\n",
       "0      24       12           0             0         3.0     2.0      1.0   \n",
       "\n",
       "   outdoorTime       newy  \n",
       "0          1.5  18.376317  "
      ]
     },
     "execution_count": 125,
     "metadata": {},
     "output_type": "execute_result"
    }
   ],
   "source": [
    "df.head(1)"
   ]
  },
  {
   "cell_type": "code",
   "execution_count": 132,
   "metadata": {},
   "outputs": [],
   "source": [
    "df['tvint'] = df['tvTime'].astype('int')"
   ]
  },
  {
   "cell_type": "code",
   "execution_count": 136,
   "metadata": {},
   "outputs": [
    {
     "data": {
      "text/plain": [
       "Index(['ID', 'gender', 'age', 'disability', 'mothersEdu', 'allSocialSkills',\n",
       "       'express', 'comply', 'disrupt', 'meetStReqs', 'meetPhysReqs',\n",
       "       'screenTime', 'tvTime', 'cpuTime', 'outdoorTime', 'newy', 'tvint_0',\n",
       "       'tvint_1', 'tvint_2', 'tvint_3', 'tvint_4', 'tvint_5', 'tvint_6',\n",
       "       'tvint_7', 'tvint_8', 'tvint_10', 'tvint_11'],\n",
       "      dtype='object')"
      ]
     },
     "execution_count": 136,
     "metadata": {},
     "output_type": "execute_result"
    }
   ],
   "source": [
    "ohe = pd.get_dummies(df, columns=['tvint'])\n",
    "ohe.columns"
   ]
  },
  {
   "cell_type": "code",
   "execution_count": 138,
   "metadata": {},
   "outputs": [
    {
     "name": "stdout",
     "output_type": "stream",
     "text": [
      "Covariance Matrix:\n",
      " [[ 1.00174216 -0.57648782 -0.31380587 -0.16154588 -0.11858979 -0.050764\n",
      "  -0.05866852 -0.0292575  -0.050764   -0.0292575  -0.0292575 ]\n",
      " [-0.57648782  1.00174216 -0.36882533 -0.18986966 -0.13938209 -0.05966443\n",
      "  -0.06895485 -0.03438721 -0.05966443 -0.03438721 -0.03438721]\n",
      " [-0.31380587 -0.36882533  1.00174216 -0.10335381 -0.07587137 -0.03247779\n",
      "  -0.03753494 -0.01871836 -0.03247779 -0.01871836 -0.01871836]\n",
      " [-0.16154588 -0.18986966 -0.10335381  1.00174216 -0.03905824 -0.01671942\n",
      "  -0.01932282 -0.00963613 -0.01671942 -0.00963613 -0.00963613]\n",
      " [-0.11858979 -0.13938209 -0.07587137 -0.03905824  1.00174216 -0.01227362\n",
      "  -0.01418476 -0.00707382 -0.01227362 -0.00707382 -0.00707382]\n",
      " [-0.050764   -0.05966443 -0.03247779 -0.01671942 -0.01227362  1.00174216\n",
      "  -0.00607198 -0.00302805 -0.00525389 -0.00302805 -0.00302805]\n",
      " [-0.05866852 -0.06895485 -0.03753494 -0.01932282 -0.01418476 -0.00607198\n",
      "   1.00174216 -0.00349955 -0.00607198 -0.00349955 -0.00349955]\n",
      " [-0.0292575  -0.03438721 -0.01871836 -0.00963613 -0.00707382 -0.00302805\n",
      "  -0.00349955  1.00174216 -0.00302805 -0.0017452  -0.0017452 ]\n",
      " [-0.050764   -0.05966443 -0.03247779 -0.01671942 -0.01227362 -0.00525389\n",
      "  -0.00607198 -0.00302805  1.00174216 -0.00302805 -0.00302805]\n",
      " [-0.0292575  -0.03438721 -0.01871836 -0.00963613 -0.00707382 -0.00302805\n",
      "  -0.00349955 -0.0017452  -0.00302805  1.00174216 -0.0017452 ]\n",
      " [-0.0292575  -0.03438721 -0.01871836 -0.00963613 -0.00707382 -0.00302805\n",
      "  -0.00349955 -0.0017452  -0.00302805 -0.0017452   1.00174216]]\n"
     ]
    },
    {
     "name": "stderr",
     "output_type": "stream",
     "text": [
      "c:\\users\\greg\\appdata\\local\\programs\\python\\python37-32\\lib\\site-packages\\sklearn\\preprocessing\\data.py:617: DataConversionWarning: Data with input dtype uint8 were all converted to float64 by StandardScaler.\n",
      "  return self.partial_fit(X, y)\n",
      "c:\\users\\greg\\appdata\\local\\programs\\python\\python37-32\\lib\\site-packages\\sklearn\\base.py:462: DataConversionWarning: Data with input dtype uint8 were all converted to float64 by StandardScaler.\n",
      "  return self.fit(X, **fit_params).transform(X)\n"
     ]
    }
   ],
   "source": [
    "pcacols = ohe[['disability']]\n",
    "X = StandardScaler().fit_transform(pcacols)\n",
    "Xt = X.T\n",
    "Cx = np.cov(Xt)\n",
    "print('Covariance Matrix:\\n', Cx)"
   ]
  },
  {
   "cell_type": "code",
   "execution_count": 139,
   "metadata": {},
   "outputs": [
    {
     "name": "stdout",
     "output_type": "stream",
     "text": [
      "Eigenvector 1: \n",
      "[[0.56230575]\n",
      " [0.58727163]\n",
      " [0.44642791]\n",
      " [0.26196501]\n",
      " [0.19688556]\n",
      " [0.08623958]\n",
      " [0.0994938 ]\n",
      " [0.04987741]\n",
      " [0.08623958]\n",
      " [0.04987741]\n",
      " [0.04987741]]\n",
      "Eigenvalue 1: 1.3322676295501878e-15\n",
      "----------------------------------------\n",
      "Eigenvector 2: \n",
      "[[ 0.66059718]\n",
      " [-0.74210109]\n",
      " [ 0.10137456]\n",
      " [ 0.03762188]\n",
      " [ 0.02639325]\n",
      " [ 0.01083918]\n",
      " [ 0.01256539]\n",
      " [ 0.00620931]\n",
      " [ 0.01083918]\n",
      " [ 0.00620931]\n",
      " [ 0.00620931]]\n",
      "Eigenvalue 2: 1.5836550214785123\n",
      "----------------------------------------\n",
      "Eigenvector 3: \n",
      "[[ 0.46684562]\n",
      " [ 0.29141102]\n",
      " [-0.81303187]\n",
      " [-0.14453924]\n",
      " [-0.09568992]\n",
      " [-0.03745216]\n",
      " [-0.04356495]\n",
      " [-0.02131176]\n",
      " [-0.03745216]\n",
      " [-0.02131176]\n",
      " [-0.02131176]]\n",
      "Eigenvalue 3: 1.280347665141226\n",
      "----------------------------------------\n",
      "Eigenvector 4: \n",
      "[[-0.15814604]\n",
      " [-0.12780892]\n",
      " [-0.34135681]\n",
      " [ 0.84075521]\n",
      " [ 0.31461798]\n",
      " [ 0.09174404]\n",
      " [ 0.10863761]\n",
      " [ 0.05046575]\n",
      " [ 0.09174404]\n",
      " [ 0.05046575]\n",
      " [ 0.05046575]]\n",
      "Eigenvalue 4: 1.0804584069279677\n",
      "----------------------------------------\n",
      "Eigenvector 5: \n",
      "[[ 0.05105417]\n",
      " [ 0.04253493]\n",
      " [ 0.08976248]\n",
      " [ 0.42136847]\n",
      " [-0.88421935]\n",
      " [-0.08082188]\n",
      " [-0.09928716]\n",
      " [-0.04167094]\n",
      " [-0.08082188]\n",
      " [-0.04167094]\n",
      " [-0.04167094]]\n",
      "Eigenvalue 5: 1.0367728213409741\n",
      "----------------------------------------\n",
      "Eigenvector 6: \n",
      "[[-0.04067451]\n",
      " [-0.03440409]\n",
      " [-0.06559686]\n",
      " [-0.14977922]\n",
      " [-0.25640411]\n",
      " [ 0.40438036]\n",
      " [ 0.72206029]\n",
      " [ 0.13694781]\n",
      " [ 0.40438036]\n",
      " [ 0.13694781]\n",
      " [ 0.13694781]]\n",
      "Eigenvalue 6: 1.0119954008383607\n",
      "----------------------------------------\n",
      "Eigenvector 7: \n",
      "[[-0.00960478]\n",
      " [-0.00814336]\n",
      " [-0.01529362]\n",
      " [-0.03257037]\n",
      " [-0.04997329]\n",
      " [ 0.5277309 ]\n",
      " [-0.65362957]\n",
      " [ 0.06276397]\n",
      " [ 0.5277309 ]\n",
      " [ 0.06276397]\n",
      " [ 0.06276397]]\n",
      "Eigenvalue 7: 1.007908350021365\n",
      "----------------------------------------\n",
      "Eigenvector 8: \n",
      "[[ 0.01074329]\n",
      " [ 0.00912872]\n",
      " [ 0.01690777]\n",
      " [ 0.03394086]\n",
      " [ 0.04810594]\n",
      " [ 0.18458076]\n",
      " [ 0.13335082]\n",
      " [-0.55079538]\n",
      " [ 0.18458076]\n",
      " [-0.55079538]\n",
      " [-0.55079538]]\n",
      "Eigenvalue 8: 1.0040553332301732\n",
      "----------------------------------------\n",
      "Eigenvector 9: \n",
      "[[-1.79069896e-14]\n",
      " [-1.52829134e-14]\n",
      " [-2.77467155e-14]\n",
      " [-6.28203766e-14]\n",
      " [-8.66547460e-14]\n",
      " [ 7.07106781e-01]\n",
      " [-6.12650198e-13]\n",
      " [ 1.05052431e-13]\n",
      " [-7.07106781e-01]\n",
      " [ 1.98314927e-13]\n",
      " [ 1.98105572e-13]]\n",
      "Eigenvalue 9: 1.0069960527277568\n",
      "----------------------------------------\n",
      "Eigenvector 10: \n",
      "[[ 5.68870471e-14]\n",
      " [ 4.82290685e-14]\n",
      " [ 8.88437654e-14]\n",
      " [ 1.76530143e-13]\n",
      " [ 2.47664307e-13]\n",
      " [ 8.66012259e-13]\n",
      " [ 6.17835489e-13]\n",
      " [-1.71140055e-01]\n",
      " [ 8.33133886e-13]\n",
      " [-6.05829503e-01]\n",
      " [ 7.76969558e-01]]\n",
      "Eigenvalue 10: 1.0034873556799233\n",
      "----------------------------------------\n",
      "Eigenvector 11: \n",
      "[[ 7.78703057e-14]\n",
      " [ 6.61678315e-14]\n",
      " [ 1.22469550e-13]\n",
      " [ 2.40713035e-13]\n",
      " [ 3.47706515e-13]\n",
      " [ 1.11415414e-12]\n",
      " [ 8.22774546e-13]\n",
      " [-7.98359410e-01]\n",
      " [ 1.14917959e-12]\n",
      " [ 5.47391341e-01]\n",
      " [ 2.50968070e-01]]\n",
      "Eigenvalue 11: 1.0034873556799162\n",
      "----------------------------------------\n",
      "The percentage of total variance in the dataset explained by each component calculated by hand.\n",
      " [1.20904604e-16 1.43718258e-01 1.16192816e-01 9.80526681e-02\n",
      " 9.40881580e-02 9.18395826e-02 9.14686787e-02 9.11190136e-02\n",
      " 9.13858868e-02 9.10674691e-02 9.10674691e-02]\n"
     ]
    }
   ],
   "source": [
    "eig_val_cov, eig_vec_cov = np.linalg.eig(Cx)\n",
    "\n",
    "# Inspecting the eigenvalues and eigenvectors.\n",
    "for i in range(len(eig_val_cov)):\n",
    "    eigvec_cov = eig_vec_cov[:, i].reshape(1, 11).T\n",
    "    print('Eigenvector {}: \\n{}'.format(i + 1, eigvec_cov))\n",
    "    print('Eigenvalue {}: {}'.format(i + 1, eig_val_cov[i]))\n",
    "    print(40 * '-')\n",
    "\n",
    "print(\n",
    "    'The percentage of total variance in the dataset explained by each',\n",
    "    'component calculated by hand.\\n',\n",
    "    eig_val_cov / sum(eig_val_cov)\n",
    ")"
   ]
  },
  {
   "cell_type": "code",
   "execution_count": null,
   "metadata": {},
   "outputs": [],
   "source": []
  },
  {
   "cell_type": "code",
   "execution_count": null,
   "metadata": {},
   "outputs": [],
   "source": []
  },
  {
   "cell_type": "code",
   "execution_count": null,
   "metadata": {},
   "outputs": [],
   "source": [
    "\n",
    "\n",
    "features = df[['age', 'disability', 'meetStReqs','gender_Female', 'gender_Male', 'mothersEdu_1',\n",
    "               'mothersEdu_2', 'mothersEdu_3','allSocialSkills']]\n",
    "\n",
    "#Also keep all pca components for now\n",
    "for i in range(len(eig_vec_cov)):\n",
    "    P = eig_vec_cov[:,i]\n",
    "    Y = P.T.dot(Xt)\n",
    "    features['pca'+str(i)] = Y\n",
    "features.head()"
   ]
  },
  {
   "cell_type": "code",
   "execution_count": null,
   "metadata": {},
   "outputs": [],
   "source": []
  },
  {
   "cell_type": "code",
   "execution_count": null,
   "metadata": {},
   "outputs": [],
   "source": []
  },
  {
   "cell_type": "code",
   "execution_count": null,
   "metadata": {},
   "outputs": [],
   "source": []
  },
  {
   "cell_type": "code",
   "execution_count": null,
   "metadata": {},
   "outputs": [],
   "source": []
  },
  {
   "cell_type": "code",
   "execution_count": 80,
   "metadata": {},
   "outputs": [
    {
     "ename": "ValueError",
     "evalue": "Expected 2D array, got 1D array instead:\narray=[78. 82. 68. 63. 78. 66. 71. 62. 78. 74. 57. 78. 74. 79. 81. 81. 78. 79.\n 82. 60. 74. 74. 81. 77. 71. 68. 82. 62. 76. 75. 74. 81. 80. 75. 68. 83.\n 82. 83. 80. 82. 67. 79. 71. 63. 76. 77. 83. 74. 73. 70. 84. 87. 74. 70.\n 81. 77. 78. 66. 75. 84. 61. 81. 72. 77. 74. 81. 82. 77. 74. 75. 68. 72.\n 70. 78. 78. 77. 72. 82. 74. 80. 69. 85. 59. 83. 74. 69. 80. 82. 79. 66.\n 78. 73. 82. 82. 76. 86. 85. 65. 75. 86. 75. 78. 83. 83. 77. 77. 76. 76.\n 81. 85. 78. 75. 64. 77. 75. 77. 77. 75. 77. 80. 74. 79. 80. 82. 83. 71.\n 72. 72. 85. 84. 75. 74. 78. 83. 75. 80. 72. 75. 71. 80. 65. 63. 80. 84.\n 72. 85. 63. 77. 79. 73. 74. 73. 76. 71. 82. 81. 77. 80. 67. 85. 83. 69.\n 77. 77. 70. 68. 77. 83. 73. 77. 73. 82. 78. 68. 78. 76. 58. 76. 85. 80.\n 77. 82. 80. 86. 85. 82. 81. 86. 71. 81. 76. 74. 87. 85. 63. 78. 81. 77.\n 84. 82. 58. 81. 86. 66. 81. 65. 76. 83. 68. 83. 76. 87. 68. 67. 78. 76.\n 73. 71. 64. 72. 77. 88. 84. 81. 82. 81. 77. 75. 81. 64. 74. 69. 71. 79.\n 73. 78. 80. 76. 78. 74. 81. 79. 84. 84. 81. 81. 83. 72. 80. 83. 55. 73.\n 84. 77. 73. 78. 78. 67. 80. 77. 78. 75. 82. 84. 84. 78. 77. 81. 62. 83.\n 76. 72. 69. 83. 78. 64. 83. 81. 55. 75. 76. 75. 76. 82. 80. 85. 76. 77.\n 87. 78. 83. 86. 78. 82. 79. 81. 86. 78. 67. 77. 83. 81. 48. 77. 79. 62.\n 73. 78. 77. 74. 64. 82. 77. 80. 69. 76. 76. 81. 73. 73. 66. 63. 72. 82.\n 81. 86. 71. 83. 83. 69. 77. 84. 75. 78. 72. 79. 61. 71. 69. 72. 74. 73.\n 78. 70. 83. 79. 72. 78. 82. 64. 83. 81. 67. 59. 77. 78. 85. 67. 74. 69.\n 68. 70. 77. 67. 80. 77. 70. 77. 62. 83. 69. 84. 77. 84. 73. 77. 78. 72.\n 61. 81. 76. 81. 81. 70. 73. 78. 73. 75. 72. 77. 58. 76. 78. 85. 76. 80.\n 84. 80. 74. 76. 79. 69. 83. 78. 81. 84. 85. 75. 72. 81. 79. 77. 85. 80.\n 84. 82. 70. 69. 78. 62. 80. 80. 82. 85. 78. 81. 81. 61. 74. 76. 72. 88.\n 80. 69. 77. 75. 84. 79. 75. 80. 76. 74. 84. 74. 88. 85. 75. 80. 82. 72.\n 80. 78. 82. 68. 60. 85. 77. 74. 76. 72. 82. 72. 82. 84. 78. 79. 71. 66.\n 70. 84. 84. 83. 64. 80. 82. 80. 71. 72. 80. 81. 76. 78. 74. 84. 72. 78.\n 76. 80. 75. 85. 82. 80. 77. 75. 86. 75. 82. 81. 84. 76. 70. 78. 86. 72.\n 70. 81. 75. 77. 77. 74. 81. 74. 68. 76. 85. 79. 80. 61. 76. 74. 80. 83.\n 69. 70. 81. 75. 69. 70. 78. 84. 77. 78. 79. 81. 81. 79. 64. 83. 77. 84.\n 79. 76. 83. 68. 69. 73. 82. 79. 82. 84. 79. 77. 83. 79. 78. 67. 83. 80.\n 81. 69. 76. 82. 79. 84. 76. 78. 69. 82. 87. 82. 81. 76. 75. 73. 83.].\nReshape your data either using array.reshape(-1, 1) if your data has a single feature or array.reshape(1, -1) if it contains a single sample.",
     "output_type": "error",
     "traceback": [
      "\u001b[1;31m---------------------------------------------------------------------------\u001b[0m",
      "\u001b[1;31mValueError\u001b[0m                                Traceback (most recent call last)",
      "\u001b[1;32m<ipython-input-80-7a8e39bf20b8>\u001b[0m in \u001b[0;36m<module>\u001b[1;34m()\u001b[0m\n\u001b[0;32m      2\u001b[0m \u001b[1;32mfrom\u001b[0m \u001b[0msklearn\u001b[0m\u001b[1;33m.\u001b[0m\u001b[0mpreprocessing\u001b[0m \u001b[1;32mimport\u001b[0m \u001b[0mquantile_transform\u001b[0m\u001b[1;33m\u001b[0m\u001b[0m\n\u001b[0;32m      3\u001b[0m \u001b[1;33m\u001b[0m\u001b[0m\n\u001b[1;32m----> 4\u001b[1;33m \u001b[0my_trans\u001b[0m \u001b[1;33m=\u001b[0m \u001b[0mquantile_transform\u001b[0m\u001b[1;33m(\u001b[0m\u001b[0mdf\u001b[0m\u001b[1;33m.\u001b[0m\u001b[0mallSocialSkills\u001b[0m\u001b[1;33m,\u001b[0m\u001b[0moutput_distribution\u001b[0m\u001b[1;33m=\u001b[0m\u001b[1;34m'normal'\u001b[0m\u001b[1;33m)\u001b[0m\u001b[1;33m.\u001b[0m\u001b[0msqueeze\u001b[0m\u001b[1;33m(\u001b[0m\u001b[1;33m)\u001b[0m\u001b[1;33m\u001b[0m\u001b[0m\n\u001b[0m\u001b[0;32m      5\u001b[0m \u001b[0mplt\u001b[0m\u001b[1;33m.\u001b[0m\u001b[0mhist\u001b[0m\u001b[1;33m(\u001b[0m\u001b[0my_trans\u001b[0m\u001b[1;33m)\u001b[0m\u001b[1;33m\u001b[0m\u001b[0m\n\u001b[0;32m      6\u001b[0m \u001b[0mplt\u001b[0m\u001b[1;33m.\u001b[0m\u001b[0mshow\u001b[0m\u001b[1;33m(\u001b[0m\u001b[1;33m)\u001b[0m\u001b[1;33m\u001b[0m\u001b[0m\n",
      "\u001b[1;32mc:\\users\\greg\\appdata\\local\\programs\\python\\python37-32\\lib\\site-packages\\sklearn\\preprocessing\\data.py\u001b[0m in \u001b[0;36mquantile_transform\u001b[1;34m(X, axis, n_quantiles, output_distribution, ignore_implicit_zeros, subsample, random_state, copy)\u001b[0m\n\u001b[0;32m   2464\u001b[0m                             copy=copy)\n\u001b[0;32m   2465\u001b[0m     \u001b[1;32mif\u001b[0m \u001b[0maxis\u001b[0m \u001b[1;33m==\u001b[0m \u001b[1;36m0\u001b[0m\u001b[1;33m:\u001b[0m\u001b[1;33m\u001b[0m\u001b[0m\n\u001b[1;32m-> 2466\u001b[1;33m         \u001b[1;32mreturn\u001b[0m \u001b[0mn\u001b[0m\u001b[1;33m.\u001b[0m\u001b[0mfit_transform\u001b[0m\u001b[1;33m(\u001b[0m\u001b[0mX\u001b[0m\u001b[1;33m)\u001b[0m\u001b[1;33m\u001b[0m\u001b[0m\n\u001b[0m\u001b[0;32m   2467\u001b[0m     \u001b[1;32melif\u001b[0m \u001b[0maxis\u001b[0m \u001b[1;33m==\u001b[0m \u001b[1;36m1\u001b[0m\u001b[1;33m:\u001b[0m\u001b[1;33m\u001b[0m\u001b[0m\n\u001b[0;32m   2468\u001b[0m         \u001b[1;32mreturn\u001b[0m \u001b[0mn\u001b[0m\u001b[1;33m.\u001b[0m\u001b[0mfit_transform\u001b[0m\u001b[1;33m(\u001b[0m\u001b[0mX\u001b[0m\u001b[1;33m.\u001b[0m\u001b[0mT\u001b[0m\u001b[1;33m)\u001b[0m\u001b[1;33m.\u001b[0m\u001b[0mT\u001b[0m\u001b[1;33m\u001b[0m\u001b[0m\n",
      "\u001b[1;32mc:\\users\\greg\\appdata\\local\\programs\\python\\python37-32\\lib\\site-packages\\sklearn\\base.py\u001b[0m in \u001b[0;36mfit_transform\u001b[1;34m(self, X, y, **fit_params)\u001b[0m\n\u001b[0;32m    460\u001b[0m         \u001b[1;32mif\u001b[0m \u001b[0my\u001b[0m \u001b[1;32mis\u001b[0m \u001b[1;32mNone\u001b[0m\u001b[1;33m:\u001b[0m\u001b[1;33m\u001b[0m\u001b[0m\n\u001b[0;32m    461\u001b[0m             \u001b[1;31m# fit method of arity 1 (unsupervised transformation)\u001b[0m\u001b[1;33m\u001b[0m\u001b[1;33m\u001b[0m\u001b[0m\n\u001b[1;32m--> 462\u001b[1;33m             \u001b[1;32mreturn\u001b[0m \u001b[0mself\u001b[0m\u001b[1;33m.\u001b[0m\u001b[0mfit\u001b[0m\u001b[1;33m(\u001b[0m\u001b[0mX\u001b[0m\u001b[1;33m,\u001b[0m \u001b[1;33m**\u001b[0m\u001b[0mfit_params\u001b[0m\u001b[1;33m)\u001b[0m\u001b[1;33m.\u001b[0m\u001b[0mtransform\u001b[0m\u001b[1;33m(\u001b[0m\u001b[0mX\u001b[0m\u001b[1;33m)\u001b[0m\u001b[1;33m\u001b[0m\u001b[0m\n\u001b[0m\u001b[0;32m    463\u001b[0m         \u001b[1;32melse\u001b[0m\u001b[1;33m:\u001b[0m\u001b[1;33m\u001b[0m\u001b[0m\n\u001b[0;32m    464\u001b[0m             \u001b[1;31m# fit method of arity 2 (supervised transformation)\u001b[0m\u001b[1;33m\u001b[0m\u001b[1;33m\u001b[0m\u001b[0m\n",
      "\u001b[1;32mc:\\users\\greg\\appdata\\local\\programs\\python\\python37-32\\lib\\site-packages\\sklearn\\preprocessing\\data.py\u001b[0m in \u001b[0;36mfit\u001b[1;34m(self, X, y)\u001b[0m\n\u001b[0;32m   2173\u001b[0m                                                        self.subsample))\n\u001b[0;32m   2174\u001b[0m \u001b[1;33m\u001b[0m\u001b[0m\n\u001b[1;32m-> 2175\u001b[1;33m         \u001b[0mX\u001b[0m \u001b[1;33m=\u001b[0m \u001b[0mself\u001b[0m\u001b[1;33m.\u001b[0m\u001b[0m_check_inputs\u001b[0m\u001b[1;33m(\u001b[0m\u001b[0mX\u001b[0m\u001b[1;33m)\u001b[0m\u001b[1;33m\u001b[0m\u001b[0m\n\u001b[0m\u001b[0;32m   2176\u001b[0m         \u001b[0mrng\u001b[0m \u001b[1;33m=\u001b[0m \u001b[0mcheck_random_state\u001b[0m\u001b[1;33m(\u001b[0m\u001b[0mself\u001b[0m\u001b[1;33m.\u001b[0m\u001b[0mrandom_state\u001b[0m\u001b[1;33m)\u001b[0m\u001b[1;33m\u001b[0m\u001b[0m\n\u001b[0;32m   2177\u001b[0m \u001b[1;33m\u001b[0m\u001b[0m\n",
      "\u001b[1;32mc:\\users\\greg\\appdata\\local\\programs\\python\\python37-32\\lib\\site-packages\\sklearn\\preprocessing\\data.py\u001b[0m in \u001b[0;36m_check_inputs\u001b[1;34m(self, X, accept_sparse_negative)\u001b[0m\n\u001b[0;32m   2254\u001b[0m         X = check_array(X, accept_sparse='csc', copy=self.copy,\n\u001b[0;32m   2255\u001b[0m                         \u001b[0mdtype\u001b[0m\u001b[1;33m=\u001b[0m\u001b[0mFLOAT_DTYPES\u001b[0m\u001b[1;33m,\u001b[0m\u001b[1;33m\u001b[0m\u001b[0m\n\u001b[1;32m-> 2256\u001b[1;33m                         force_all_finite='allow-nan')\n\u001b[0m\u001b[0;32m   2257\u001b[0m         \u001b[1;31m# we only accept positive sparse matrix when ignore_implicit_zeros is\u001b[0m\u001b[1;33m\u001b[0m\u001b[1;33m\u001b[0m\u001b[0m\n\u001b[0;32m   2258\u001b[0m         \u001b[1;31m# false and that we call fit or transform.\u001b[0m\u001b[1;33m\u001b[0m\u001b[1;33m\u001b[0m\u001b[0m\n",
      "\u001b[1;32mc:\\users\\greg\\appdata\\local\\programs\\python\\python37-32\\lib\\site-packages\\sklearn\\utils\\validation.py\u001b[0m in \u001b[0;36mcheck_array\u001b[1;34m(array, accept_sparse, accept_large_sparse, dtype, order, copy, force_all_finite, ensure_2d, allow_nd, ensure_min_samples, ensure_min_features, warn_on_dtype, estimator)\u001b[0m\n\u001b[0;32m    545\u001b[0m                     \u001b[1;34m\"Reshape your data either using array.reshape(-1, 1) if \"\u001b[0m\u001b[1;33m\u001b[0m\u001b[0m\n\u001b[0;32m    546\u001b[0m                     \u001b[1;34m\"your data has a single feature or array.reshape(1, -1) \"\u001b[0m\u001b[1;33m\u001b[0m\u001b[0m\n\u001b[1;32m--> 547\u001b[1;33m                     \"if it contains a single sample.\".format(array))\n\u001b[0m\u001b[0;32m    548\u001b[0m \u001b[1;33m\u001b[0m\u001b[0m\n\u001b[0;32m    549\u001b[0m         \u001b[1;31m# in the future np.flexible dtypes will be handled like object dtypes\u001b[0m\u001b[1;33m\u001b[0m\u001b[1;33m\u001b[0m\u001b[0m\n",
      "\u001b[1;31mValueError\u001b[0m: Expected 2D array, got 1D array instead:\narray=[78. 82. 68. 63. 78. 66. 71. 62. 78. 74. 57. 78. 74. 79. 81. 81. 78. 79.\n 82. 60. 74. 74. 81. 77. 71. 68. 82. 62. 76. 75. 74. 81. 80. 75. 68. 83.\n 82. 83. 80. 82. 67. 79. 71. 63. 76. 77. 83. 74. 73. 70. 84. 87. 74. 70.\n 81. 77. 78. 66. 75. 84. 61. 81. 72. 77. 74. 81. 82. 77. 74. 75. 68. 72.\n 70. 78. 78. 77. 72. 82. 74. 80. 69. 85. 59. 83. 74. 69. 80. 82. 79. 66.\n 78. 73. 82. 82. 76. 86. 85. 65. 75. 86. 75. 78. 83. 83. 77. 77. 76. 76.\n 81. 85. 78. 75. 64. 77. 75. 77. 77. 75. 77. 80. 74. 79. 80. 82. 83. 71.\n 72. 72. 85. 84. 75. 74. 78. 83. 75. 80. 72. 75. 71. 80. 65. 63. 80. 84.\n 72. 85. 63. 77. 79. 73. 74. 73. 76. 71. 82. 81. 77. 80. 67. 85. 83. 69.\n 77. 77. 70. 68. 77. 83. 73. 77. 73. 82. 78. 68. 78. 76. 58. 76. 85. 80.\n 77. 82. 80. 86. 85. 82. 81. 86. 71. 81. 76. 74. 87. 85. 63. 78. 81. 77.\n 84. 82. 58. 81. 86. 66. 81. 65. 76. 83. 68. 83. 76. 87. 68. 67. 78. 76.\n 73. 71. 64. 72. 77. 88. 84. 81. 82. 81. 77. 75. 81. 64. 74. 69. 71. 79.\n 73. 78. 80. 76. 78. 74. 81. 79. 84. 84. 81. 81. 83. 72. 80. 83. 55. 73.\n 84. 77. 73. 78. 78. 67. 80. 77. 78. 75. 82. 84. 84. 78. 77. 81. 62. 83.\n 76. 72. 69. 83. 78. 64. 83. 81. 55. 75. 76. 75. 76. 82. 80. 85. 76. 77.\n 87. 78. 83. 86. 78. 82. 79. 81. 86. 78. 67. 77. 83. 81. 48. 77. 79. 62.\n 73. 78. 77. 74. 64. 82. 77. 80. 69. 76. 76. 81. 73. 73. 66. 63. 72. 82.\n 81. 86. 71. 83. 83. 69. 77. 84. 75. 78. 72. 79. 61. 71. 69. 72. 74. 73.\n 78. 70. 83. 79. 72. 78. 82. 64. 83. 81. 67. 59. 77. 78. 85. 67. 74. 69.\n 68. 70. 77. 67. 80. 77. 70. 77. 62. 83. 69. 84. 77. 84. 73. 77. 78. 72.\n 61. 81. 76. 81. 81. 70. 73. 78. 73. 75. 72. 77. 58. 76. 78. 85. 76. 80.\n 84. 80. 74. 76. 79. 69. 83. 78. 81. 84. 85. 75. 72. 81. 79. 77. 85. 80.\n 84. 82. 70. 69. 78. 62. 80. 80. 82. 85. 78. 81. 81. 61. 74. 76. 72. 88.\n 80. 69. 77. 75. 84. 79. 75. 80. 76. 74. 84. 74. 88. 85. 75. 80. 82. 72.\n 80. 78. 82. 68. 60. 85. 77. 74. 76. 72. 82. 72. 82. 84. 78. 79. 71. 66.\n 70. 84. 84. 83. 64. 80. 82. 80. 71. 72. 80. 81. 76. 78. 74. 84. 72. 78.\n 76. 80. 75. 85. 82. 80. 77. 75. 86. 75. 82. 81. 84. 76. 70. 78. 86. 72.\n 70. 81. 75. 77. 77. 74. 81. 74. 68. 76. 85. 79. 80. 61. 76. 74. 80. 83.\n 69. 70. 81. 75. 69. 70. 78. 84. 77. 78. 79. 81. 81. 79. 64. 83. 77. 84.\n 79. 76. 83. 68. 69. 73. 82. 79. 82. 84. 79. 77. 83. 79. 78. 67. 83. 80.\n 81. 69. 76. 82. 79. 84. 76. 78. 69. 82. 87. 82. 81. 76. 75. 73. 83.].\nReshape your data either using array.reshape(-1, 1) if your data has a single feature or array.reshape(1, -1) if it contains a single sample."
     ]
    }
   ],
   "source": [
    "#https://scikit-learn.org/stable/auto_examples/compose/plot_transformed_target.html#sphx-glr-auto-examples-compose-plot-transformed-target-py\n",
    "from sklearn.preprocessing import quantile_transform\n",
    "\n",
    "y_trans = quantile_transform(df.allSocialSkills,output_distribution='normal').squeeze()\n",
    "plt.hist(y_trans)\n",
    "plt.show()"
   ]
  },
  {
   "cell_type": "code",
   "execution_count": null,
   "metadata": {},
   "outputs": [],
   "source": []
  }
 ],
 "metadata": {
  "kernelspec": {
   "display_name": "Python 3",
   "language": "python",
   "name": "python3"
  },
  "language_info": {
   "codemirror_mode": {
    "name": "ipython",
    "version": 3
   },
   "file_extension": ".py",
   "mimetype": "text/x-python",
   "name": "python",
   "nbconvert_exporter": "python",
   "pygments_lexer": "ipython3",
   "version": "3.7.0"
  }
 },
 "nbformat": 4,
 "nbformat_minor": 2
}
